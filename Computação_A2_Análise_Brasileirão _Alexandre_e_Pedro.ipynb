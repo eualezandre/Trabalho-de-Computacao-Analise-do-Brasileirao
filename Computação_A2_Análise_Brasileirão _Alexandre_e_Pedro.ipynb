{
 "cells": [
  {
   "cell_type": "markdown",
   "metadata": {
    "id": "jvnSDx0pg_jI"
   },
   "source": [
    "# Trabalho de Computação 2021.2\n",
    "Alexandre Almeida & Pedro Pereira"
   ]
  },
  {
   "cell_type": "code",
   "execution_count": 2,
   "metadata": {
    "id": "NdhVf5WTgMfT"
   },
   "outputs": [],
   "source": [
    "import pandas as pd \n",
    "import numpy as np\n",
    "import matplotlib.pyplot as plt\n",
    "import seaborn as sns\n",
    "import warnings\n",
    "warnings.filterwarnings('ignore')"
   ]
  },
  {
   "cell_type": "code",
   "execution_count": 3,
   "metadata": {
    "id": "1msrSX8iiP71"
   },
   "outputs": [],
   "source": [
    "est=pd.read_csv('campeonato-brasileiro-estatisticas-full.csv',sep=';',error_bad_lines = False)\n",
    "par=pd.read_csv('campeonato-brasileiro-full.csv',sep=';',error_bad_lines = False)"
   ]
  },
  {
   "cell_type": "code",
   "execution_count": 120,
   "metadata": {
    "id": "ogKj53h7ZrlR"
   },
   "outputs": [],
   "source": [
    "# Imagens do escudo dos times\n",
    "urlCruzeiro='https://upload.wikimedia.org/wikipedia/commons/b/bc/Logo_Cruzeiro_1996.png'\n",
    "urlSantos='https://upload.wikimedia.org/wikipedia/commons/thumb/3/35/Santos_logo.svg/1200px-Santos_logo.svg.png'\n",
    "urlCorinthians='https://upload.wikimedia.org/wikipedia/pt/b/b4/Corinthians_simbolo.png'\n",
    "urlFluminense='https://upload.wikimedia.org/wikipedia/pt/thumb/a/a3/FFC_escudo.svg/1200px-FFC_escudo.svg.png'\n",
    "urlFlamengo='https://upload.wikimedia.org/wikipedia/commons/9/93/Flamengo-RJ_%28BRA%29.png'\n",
    "urlAtleticoMG='https://upload.wikimedia.org/wikipedia/commons/5/5f/Atletico_mineiro_galo.png'\n",
    "urlSaoPaulo='https://upload.wikimedia.org/wikipedia/pt/4/4b/S%C3%A3o_Paulo_Futebol_Clube.png'\n",
    "urlGremio='https://upload.wikimedia.org/wikipedia/commons/2/2e/Gremio-Logo.png'\n",
    "urlPalmeiras='https://upload.wikimedia.org/wikipedia/commons/thumb/1/10/Palmeiras_logo.svg/1024px-Palmeiras_logo.svg.png'\n",
    "urlInternacional='https://upload.wikimedia.org/wikipedia/commons/f/f1/Escudo_do_Sport_Club_Internacional.svg'\n",
    "\n",
    "def path_to_image_html(path):\n",
    "    return '<img src=\"'+ path + '\" width=\"60\" >'\n",
    "\n",
    "def getPNG(nome):\n",
    "  if nome=='Cruzeiro':\n",
    "    return urlCruzeiro\n",
    "  if nome=='Santos':\n",
    "    return urlSantos\n",
    "  if nome=='Corinthians':\n",
    "    return urlCorinthians\n",
    "  if nome=='Fluminense':\n",
    "    return urlFluminense\n",
    "  if nome=='Flamengo':\n",
    "    return urlFlamengo\n",
    "  if nome=='Atlético-MG':\n",
    "    return urlAtleticoMG\n",
    "  if nome=='São Paulo':\n",
    "    return urlSaoPaulo\n",
    "  if nome=='Grêmio':\n",
    "    return urlGremio\n",
    "  if nome=='Palmeiras':\n",
    "    return urlPalmeiras\n",
    "  if nome=='Internacional':\n",
    "    return urlInternacional\n",
    "  return nome\n"
   ]
  },
  {
   "cell_type": "markdown",
   "metadata": {
    "id": "il1ESnlGSd_V"
   },
   "source": [
    "# Limpeza das bases"
   ]
  },
  {
   "cell_type": "code",
   "execution_count": 5,
   "metadata": {
    "colab": {
     "base_uri": "https://localhost:8080/"
    },
    "id": "AyV2WlfZBVPW",
    "outputId": "9f1370e4-08fd-49a8-db90-4420099a50f3"
   },
   "outputs": [
    {
     "data": {
      "text/plain": [
       "array(['Fluminense', 'Vasco', 'Vitória', 'Botafogo-RJ', 'Juventude',\n",
       "       'Guarani', 'Cruzeiro', 'América-MG', 'Goiás', 'Coritiba', 'Bahia',\n",
       "       'Flamengo', 'Gama', 'Internacional', 'Ponte Preta', 'Santos',\n",
       "       'Palmeiras', 'Athlético-PR', 'Corinthians', 'Atlético-MG',\n",
       "       'Portuguesa', 'Grêmio', 'São Paulo', 'Santa Cruz', 'Sport',\n",
       "       'Paraná', 'Remo', 'São Caetano', 'Malutrom', 'Botafogo-SP',\n",
       "       'Figueirense', 'Paysandu', 'Fortaleza', 'Criciúma', 'Brasiliense',\n",
       "       'América-RN', 'Náutico', 'Ipatinga', 'Avaí', 'Santo André',\n",
       "       'Barueri', 'Atlético-GO', 'Ceará', 'Grêmio Prudente',\n",
       "       'Chapecoense', 'Joinville', 'CSA', 'Bragantino', 'Cuiabá'],\n",
       "      dtype=object)"
      ]
     },
     "execution_count": 5,
     "metadata": {},
     "output_type": "execute_result"
    }
   ],
   "source": [
    "par.drop( 'Horário', axis=1, inplace=True)\n",
    "par.drop( 'Dia', axis=1, inplace=True)\n",
    "par.drop( 'Arena', axis=1, inplace=True)\n",
    "par.index+=1\n",
    "par.index=par['ID']\n",
    "par=par.drop(['ID'],axis=1)\n",
    "par['Mandante'] = par['Mandante'].str.title()\n",
    "par['Visitante'] = par['Visitante'].str.title()\n",
    "par['Vencedor'] = par['Vencedor'].str.title()\n",
    "trocas = {'Atlético-Mg': 'Atlético-MG',\n",
    "                'América-Mg': 'América-MG',\n",
    "                'Athletico-Pr': 'Athlético-PR',\n",
    "                'Athlético-Pr': 'Athlético-PR',\n",
    "                'Botafogo-Rj': 'Botafogo-RJ',\n",
    "                'Botafogo-Sp': 'Botafogo-SP',\n",
    "                'América-Rn': 'América-RN',\n",
    "                'Atlético-Go': 'Atlético-GO',\n",
    "                'Csa': 'CSA'}\n",
    "par['Mandante'] = par['Mandante'].replace(trocas)\n",
    "par['Visitante'] = par['Visitante'].replace(trocas)\n",
    "par['Vencedor'] = par['Vencedor'].replace(trocas)\n",
    "todosTimes=par['Mandante'].unique()\n",
    "todosTimes\n"
   ]
  },
  {
   "cell_type": "code",
   "execution_count": 6,
   "metadata": {
    "colab": {
     "base_uri": "https://localhost:8080/",
     "height": 424
    },
    "id": "j-R8htBRrj4S",
    "outputId": "80eb20ac-acae-4ca0-a7f4-be0434f240e5"
   },
   "outputs": [
    {
     "data": {
      "text/html": [
       "<div>\n",
       "<style scoped>\n",
       "    .dataframe tbody tr th:only-of-type {\n",
       "        vertical-align: middle;\n",
       "    }\n",
       "\n",
       "    .dataframe tbody tr th {\n",
       "        vertical-align: top;\n",
       "    }\n",
       "\n",
       "    .dataframe thead th {\n",
       "        text-align: right;\n",
       "    }\n",
       "</style>\n",
       "<table border=\"1\" class=\"dataframe\">\n",
       "  <thead>\n",
       "    <tr style=\"text-align: right;\">\n",
       "      <th></th>\n",
       "      <th>ID</th>\n",
       "      <th>Mandante</th>\n",
       "      <th>Chutes</th>\n",
       "      <th>Chutes a gol</th>\n",
       "      <th>Posse de bola</th>\n",
       "      <th>Passes</th>\n",
       "      <th>Precisão de passe</th>\n",
       "      <th>Faltas</th>\n",
       "      <th>Cartões amarelos</th>\n",
       "      <th>Cartões vermelhos</th>\n",
       "      <th>Impedimentos</th>\n",
       "      <th>Escanteios</th>\n",
       "    </tr>\n",
       "  </thead>\n",
       "  <tbody>\n",
       "    <tr>\n",
       "      <th>0</th>\n",
       "      <td>6041</td>\n",
       "      <td>1</td>\n",
       "      <td>13.0</td>\n",
       "      <td>0.0</td>\n",
       "      <td>45%</td>\n",
       "      <td>326.0</td>\n",
       "      <td>NaN</td>\n",
       "      <td>20.0</td>\n",
       "      <td>2.0</td>\n",
       "      <td>0.0</td>\n",
       "      <td>3.0</td>\n",
       "      <td>3.0</td>\n",
       "    </tr>\n",
       "    <tr>\n",
       "      <th>1</th>\n",
       "      <td>6041</td>\n",
       "      <td>0</td>\n",
       "      <td>16.0</td>\n",
       "      <td>0.0</td>\n",
       "      <td>55%</td>\n",
       "      <td>388.0</td>\n",
       "      <td>NaN</td>\n",
       "      <td>21.0</td>\n",
       "      <td>2.0</td>\n",
       "      <td>0.0</td>\n",
       "      <td>0.0</td>\n",
       "      <td>5.0</td>\n",
       "    </tr>\n",
       "    <tr>\n",
       "      <th>2</th>\n",
       "      <td>6040</td>\n",
       "      <td>1</td>\n",
       "      <td>17.0</td>\n",
       "      <td>0.0</td>\n",
       "      <td>50%</td>\n",
       "      <td>406.0</td>\n",
       "      <td>NaN</td>\n",
       "      <td>20.0</td>\n",
       "      <td>2.0</td>\n",
       "      <td>0.0</td>\n",
       "      <td>2.0</td>\n",
       "      <td>11.0</td>\n",
       "    </tr>\n",
       "    <tr>\n",
       "      <th>3</th>\n",
       "      <td>6040</td>\n",
       "      <td>0</td>\n",
       "      <td>10.0</td>\n",
       "      <td>0.0</td>\n",
       "      <td>50%</td>\n",
       "      <td>426.0</td>\n",
       "      <td>NaN</td>\n",
       "      <td>14.0</td>\n",
       "      <td>4.0</td>\n",
       "      <td>0.0</td>\n",
       "      <td>4.0</td>\n",
       "      <td>2.0</td>\n",
       "    </tr>\n",
       "    <tr>\n",
       "      <th>4</th>\n",
       "      <td>6042</td>\n",
       "      <td>1</td>\n",
       "      <td>26.0</td>\n",
       "      <td>11.0</td>\n",
       "      <td>74%</td>\n",
       "      <td>702.0</td>\n",
       "      <td>NaN</td>\n",
       "      <td>9.0</td>\n",
       "      <td>2.0</td>\n",
       "      <td>0.0</td>\n",
       "      <td>1.0</td>\n",
       "      <td>5.0</td>\n",
       "    </tr>\n",
       "    <tr>\n",
       "      <th>...</th>\n",
       "      <td>...</td>\n",
       "      <td>...</td>\n",
       "      <td>...</td>\n",
       "      <td>...</td>\n",
       "      <td>...</td>\n",
       "      <td>...</td>\n",
       "      <td>...</td>\n",
       "      <td>...</td>\n",
       "      <td>...</td>\n",
       "      <td>...</td>\n",
       "      <td>...</td>\n",
       "      <td>...</td>\n",
       "    </tr>\n",
       "    <tr>\n",
       "      <th>4801</th>\n",
       "      <td>8439</td>\n",
       "      <td>0</td>\n",
       "      <td>16.0</td>\n",
       "      <td>5.0</td>\n",
       "      <td>61%</td>\n",
       "      <td>485.0</td>\n",
       "      <td>80%</td>\n",
       "      <td>15.0</td>\n",
       "      <td>6.0</td>\n",
       "      <td>0.0</td>\n",
       "      <td>3.0</td>\n",
       "      <td>4.0</td>\n",
       "    </tr>\n",
       "    <tr>\n",
       "      <th>4802</th>\n",
       "      <td>8440</td>\n",
       "      <td>1</td>\n",
       "      <td>16.0</td>\n",
       "      <td>3.0</td>\n",
       "      <td>64%</td>\n",
       "      <td>468.0</td>\n",
       "      <td>81%</td>\n",
       "      <td>19.0</td>\n",
       "      <td>1.0</td>\n",
       "      <td>0.0</td>\n",
       "      <td>2.0</td>\n",
       "      <td>9.0</td>\n",
       "    </tr>\n",
       "    <tr>\n",
       "      <th>4803</th>\n",
       "      <td>8440</td>\n",
       "      <td>0</td>\n",
       "      <td>11.0</td>\n",
       "      <td>5.0</td>\n",
       "      <td>36%</td>\n",
       "      <td>274.0</td>\n",
       "      <td>66%</td>\n",
       "      <td>22.0</td>\n",
       "      <td>3.0</td>\n",
       "      <td>0.0</td>\n",
       "      <td>2.0</td>\n",
       "      <td>4.0</td>\n",
       "    </tr>\n",
       "    <tr>\n",
       "      <th>4804</th>\n",
       "      <td>8360</td>\n",
       "      <td>1</td>\n",
       "      <td>20.0</td>\n",
       "      <td>7.0</td>\n",
       "      <td>56%</td>\n",
       "      <td>441.0</td>\n",
       "      <td>83%</td>\n",
       "      <td>17.0</td>\n",
       "      <td>5.0</td>\n",
       "      <td>0.0</td>\n",
       "      <td>0.0</td>\n",
       "      <td>0.0</td>\n",
       "    </tr>\n",
       "    <tr>\n",
       "      <th>4805</th>\n",
       "      <td>8360</td>\n",
       "      <td>0</td>\n",
       "      <td>9.0</td>\n",
       "      <td>3.0</td>\n",
       "      <td>44%</td>\n",
       "      <td>345.0</td>\n",
       "      <td>75%</td>\n",
       "      <td>14.0</td>\n",
       "      <td>4.0</td>\n",
       "      <td>1.0</td>\n",
       "      <td>0.0</td>\n",
       "      <td>4.0</td>\n",
       "    </tr>\n",
       "  </tbody>\n",
       "</table>\n",
       "<p>4806 rows × 12 columns</p>\n",
       "</div>"
      ],
      "text/plain": [
       "        ID  Mandante  Chutes  ...  Cartões vermelhos Impedimentos  Escanteios\n",
       "0     6041         1    13.0  ...                0.0          3.0         3.0\n",
       "1     6041         0    16.0  ...                0.0          0.0         5.0\n",
       "2     6040         1    17.0  ...                0.0          2.0        11.0\n",
       "3     6040         0    10.0  ...                0.0          4.0         2.0\n",
       "4     6042         1    26.0  ...                0.0          1.0         5.0\n",
       "...    ...       ...     ...  ...                ...          ...         ...\n",
       "4801  8439         0    16.0  ...                0.0          3.0         4.0\n",
       "4802  8440         1    16.0  ...                0.0          2.0         9.0\n",
       "4803  8440         0    11.0  ...                0.0          2.0         4.0\n",
       "4804  8360         1    20.0  ...                0.0          0.0         0.0\n",
       "4805  8360         0     9.0  ...                1.0          0.0         4.0\n",
       "\n",
       "[4806 rows x 12 columns]"
      ]
     },
     "execution_count": 6,
     "metadata": {},
     "output_type": "execute_result"
    }
   ],
   "source": [
    "est"
   ]
  },
  {
   "cell_type": "code",
   "execution_count": 7,
   "metadata": {
    "id": "kHLdXYBbipUy"
   },
   "outputs": [],
   "source": [
    "est=est.sort_values('ID')\n",
    "est.index=est['ID']\n",
    "est=est.drop(['ID'],axis=1)\n",
    "est.drop('Precisão de passe', axis=1, inplace=True)\n",
    "est.drop('Chutes a gol', axis=1, inplace=True)"
   ]
  },
  {
   "cell_type": "markdown",
   "metadata": {
    "id": "ePUh2zyodWxA"
   },
   "source": [
    "Como só queremos trabalhar com temporadas completas de pontos corridos, precisamos dropar as linhas referentes às temporadas de 2000, 2001, 2002 e 2021. \n",
    "Por inspeção, precisamos apagar as linhas de ID de\n",
    " 0 a 1053 e de 8320 a 8440."
   ]
  },
  {
   "cell_type": "code",
   "execution_count": 8,
   "metadata": {
    "id": "Ou1WrVcJXJzF"
   },
   "outputs": [],
   "source": [
    "par.drop(list(range(1,1053+1)), axis=0, inplace=True)\n",
    "par.drop(list(range(8320,8440+1)), axis=0, inplace=True)\n",
    "par.index-=1053\n",
    "est.index-=1053\n",
    "est.drop(est[est.index>7266].index,inplace = True) # Da primeira partida da temporada de 2021 em diante"
   ]
  },
  {
   "cell_type": "markdown",
   "metadata": {
    "id": "Jrq2Pgm9WYTF"
   },
   "source": [
    "Vamos verificar o número de partidas em cada temporada. Em 2003 e 2004 havia 24 equipes (552 partidas), em 2005, 22 equipes (462 partidas) e, de 2006 em diante, 20 equipes (380 partidas)."
   ]
  },
  {
   "cell_type": "code",
   "execution_count": 9,
   "metadata": {
    "colab": {
     "base_uri": "https://localhost:8080/"
    },
    "id": "epp1JRf3_WI5",
    "outputId": "b7db2b0e-b90e-4fbe-d490-c84e41887dbd"
   },
   "outputs": [
    {
     "name": "stdout",
     "output_type": "stream",
     "text": [
      "{'2003': 552, '2004': 552, '2005': 462, '2006': 380, '2007': 383, '2008': 377, '2009': 380, '2010': 380, '2011': 380, '2012': 380, '2013': 380, '2014': 380, '2015': 380, '2016': 380, '2017': 380, '2018': 380, '2019': 380, '2020': 268}\n"
     ]
    }
   ],
   "source": [
    "temporadas=['2003','2004','2005','2006','2007','2008','2009','2010','2011','2012','2013','2014','2015','2016','2017','2018','2019','2020']\n",
    "anos=[]\n",
    "numJogos={}\n",
    "for i in par.index:\n",
    "  anos.append(par.loc[i][1][:4])\n",
    "for i in temporadas:\n",
    "  numJogos[i]=(anos.count(i))\n",
    "print(numJogos)"
   ]
  },
  {
   "cell_type": "markdown",
   "metadata": {
    "id": "xLI7SkBHDv-5"
   },
   "source": [
    "Percebemos que há um erro em 2007 (377 partidas) e 2008 (383 partidas), quando verificamos, vimos que havia 3 jogos de 2008 registrados como ocorridos em 2007, então vamos corrigir isso manualmente. Quanto a 2020, o restante das partidas aconteceu em 2021, por isso não consta 380 partidas no dicionário numJogos acima."
   ]
  },
  {
   "cell_type": "code",
   "execution_count": 10,
   "metadata": {
    "colab": {
     "base_uri": "https://localhost:8080/",
     "height": 175
    },
    "id": "ooNO-XP8XCBC",
    "outputId": "9d473d64-daf7-4dd6-bd86-78e60f88d80d"
   },
   "outputs": [
    {
     "data": {
      "text/html": [
       "<div>\n",
       "<style scoped>\n",
       "    .dataframe tbody tr th:only-of-type {\n",
       "        vertical-align: middle;\n",
       "    }\n",
       "\n",
       "    .dataframe tbody tr th {\n",
       "        vertical-align: top;\n",
       "    }\n",
       "\n",
       "    .dataframe thead th {\n",
       "        text-align: right;\n",
       "    }\n",
       "</style>\n",
       "<table border=\"1\" class=\"dataframe\">\n",
       "  <thead>\n",
       "    <tr style=\"text-align: right;\">\n",
       "      <th></th>\n",
       "      <th>Rodada</th>\n",
       "      <th>Data</th>\n",
       "      <th>Mandante</th>\n",
       "      <th>Visitante</th>\n",
       "      <th>Vencedor</th>\n",
       "      <th>Mandante Placar</th>\n",
       "      <th>Visitante Placar</th>\n",
       "      <th>Estado Mandante</th>\n",
       "      <th>Estado Visitante</th>\n",
       "      <th>Estado Vencedor</th>\n",
       "    </tr>\n",
       "    <tr>\n",
       "      <th>ID</th>\n",
       "      <th></th>\n",
       "      <th></th>\n",
       "      <th></th>\n",
       "      <th></th>\n",
       "      <th></th>\n",
       "      <th></th>\n",
       "      <th></th>\n",
       "      <th></th>\n",
       "      <th></th>\n",
       "      <th></th>\n",
       "    </tr>\n",
       "  </thead>\n",
       "  <tbody>\n",
       "    <tr>\n",
       "      <th>1957</th>\n",
       "      <td>2</td>\n",
       "      <td>2007-05-17</td>\n",
       "      <td>Sport</td>\n",
       "      <td>Vitória</td>\n",
       "      <td>-</td>\n",
       "      <td>0.0</td>\n",
       "      <td>0.0</td>\n",
       "      <td>PE</td>\n",
       "      <td>ES</td>\n",
       "      <td>-</td>\n",
       "    </tr>\n",
       "    <tr>\n",
       "      <th>1958</th>\n",
       "      <td>2</td>\n",
       "      <td>2007-05-17</td>\n",
       "      <td>Cruzeiro</td>\n",
       "      <td>Botafogo-RJ</td>\n",
       "      <td>Cruzeiro</td>\n",
       "      <td>1.0</td>\n",
       "      <td>0.0</td>\n",
       "      <td>MG</td>\n",
       "      <td>RJ</td>\n",
       "      <td>MG</td>\n",
       "    </tr>\n",
       "    <tr>\n",
       "      <th>1959</th>\n",
       "      <td>2</td>\n",
       "      <td>2007-05-17</td>\n",
       "      <td>Vasco</td>\n",
       "      <td>Portuguesa</td>\n",
       "      <td>Vasco</td>\n",
       "      <td>3.0</td>\n",
       "      <td>1.0</td>\n",
       "      <td>RJ</td>\n",
       "      <td>SP</td>\n",
       "      <td>RJ</td>\n",
       "    </tr>\n",
       "  </tbody>\n",
       "</table>\n",
       "</div>"
      ],
      "text/plain": [
       "     Rodada        Data  ... Estado Visitante Estado Vencedor\n",
       "ID                       ...                                 \n",
       "1957      2  2007-05-17  ...               ES               -\n",
       "1958      2  2007-05-17  ...               RJ              MG\n",
       "1959      2  2007-05-17  ...               SP              RJ\n",
       "\n",
       "[3 rows x 10 columns]"
      ]
     },
     "execution_count": 10,
     "metadata": {},
     "output_type": "execute_result"
    }
   ],
   "source": [
    "par.loc[1957:1959] # Essas são as 3 partidas que aconteceram na segunda rodada de 2008 (por inspeção)"
   ]
  },
  {
   "cell_type": "code",
   "execution_count": 11,
   "metadata": {
    "id": "pFUZOFqRYJeD"
   },
   "outputs": [],
   "source": [
    "par.loc[1957:1959]['Data']='2008-05-17' #Primeiro mudamos a data\n",
    "par=par.sort_values(['Data']) #Organizamos por data novamente\n",
    "par.index=list(range(1,7267)) #Reorganizando os IDs"
   ]
  },
  {
   "cell_type": "markdown",
   "metadata": {
    "id": "nr44JXcHNxjY"
   },
   "source": [
    "Agora de \"estatísticas\", vamos remover as duplicatas e as linhas com NaN"
   ]
  },
  {
   "cell_type": "code",
   "execution_count": 12,
   "metadata": {
    "colab": {
     "base_uri": "https://localhost:8080/"
    },
    "id": "S-XXRgzZRH3f",
    "outputId": "4846cb1e-0dbd-492e-e8bd-082eff29d26e"
   },
   "outputs": [
    {
     "data": {
      "text/plain": [
       "Mandante              0\n",
       "Chutes               52\n",
       "Posse de bola        52\n",
       "Passes               52\n",
       "Faltas               52\n",
       "Cartões amarelos     52\n",
       "Cartões vermelhos    52\n",
       "Impedimentos         52\n",
       "Escanteios           52\n",
       "dtype: int64"
      ]
     },
     "execution_count": 12,
     "metadata": {},
     "output_type": "execute_result"
    }
   ],
   "source": [
    "est.isnull().sum()"
   ]
  },
  {
   "cell_type": "code",
   "execution_count": 13,
   "metadata": {
    "id": "BiHc4R8vQG_R"
   },
   "outputs": [],
   "source": [
    "est=est.dropna(axis=0,how='any')\n",
    "est.drop_duplicates(inplace=True)"
   ]
  },
  {
   "cell_type": "markdown",
   "metadata": {
    "id": "Av1cnCw3-EmH"
   },
   "source": [
    "Substituindo Data por Temporada. Obs.: toda temporada acontece no ano correspondente, com exceção de 2020, que, por conta da pandemia, durou até os primeiros meses de 2021."
   ]
  },
  {
   "cell_type": "code",
   "execution_count": 14,
   "metadata": {
    "id": "yBOr8VdH-Hmo"
   },
   "outputs": [],
   "source": [
    "temporada=[]\n",
    "for i in par.index:\n",
    "  temporada.append(par.loc[i][1][:4])\n",
    "par.insert(2,'Temporada',temporada,True)\n",
    "par.replace(to_replace='2021', value = '2020',inplace=True) #Substituindo os valores 2021 para 2020\n",
    "\n",
    "temporada=[]\n",
    "for i in est.index:\n",
    "  temporada.append(par.loc[i][1][:4])\n",
    "est.insert(0,'Temporada',temporada,True)\n",
    "est.replace(to_replace='2021', value = '2020',inplace=True)\n",
    "\n",
    "par['Rodada']=par['Rodada'].astype(int) # Transformando os dados em inteiros\n",
    "par['Temporada']=par['Temporada'].astype(int)\n",
    "est['Temporada']=est['Temporada'].astype(int)"
   ]
  },
  {
   "cell_type": "markdown",
   "metadata": {
    "id": "U0BNZSRy8FWF"
   },
   "source": [
    "Verificando se os IDs de \"par\" e \"est\" estão alinhados: a partida que \"par\" deve retornar com o primeiro ID disponível em \"est\" deve ser a primeira partida da temporada de 2015. Verificou-se externamente que os dados batem perfeitamente."
   ]
  },
  {
   "cell_type": "code",
   "execution_count": 15,
   "metadata": {
    "colab": {
     "base_uri": "https://localhost:8080/"
    },
    "id": "JosbPQ5kN89d",
    "outputId": "6024e132-494d-4cb8-d06d-4ccd5eee04f0"
   },
   "outputs": [
    {
     "data": {
      "text/plain": [
       "Rodada                        1\n",
       "Data                 2015-05-09\n",
       "Temporada                  2015\n",
       "Mandante              Palmeiras\n",
       "Visitante           Atlético-MG\n",
       "Vencedor                      -\n",
       "Mandante Placar               2\n",
       "Visitante Placar              2\n",
       "Estado Mandante              SP\n",
       "Estado Visitante             MG\n",
       "Estado Vencedor               -\n",
       "Name: 4987, dtype: object"
      ]
     },
     "execution_count": 15,
     "metadata": {},
     "output_type": "execute_result"
    }
   ],
   "source": [
    "par.loc[4987] #Primeira partida da temporada de 2015"
   ]
  },
  {
   "cell_type": "markdown",
   "metadata": {
    "id": "PvBjG6rH7JUu"
   },
   "source": [
    "Verificando se \"est\" tem todos os jogos das temporadas de 2015 até 2020:\n",
    "10 partidas por rodada, 38 rodadas no campeonato, 6 temporadas, multiplicamos por 2 porque em est cada ID aparece 2 vezes e subtraímos por 52 que foi o número de partidas descartadas. O resultado deve ser o número de linhas de \"est\"."
   ]
  },
  {
   "cell_type": "code",
   "execution_count": 16,
   "metadata": {
    "colab": {
     "base_uri": "https://localhost:8080/"
    },
    "id": "2DlOxDF97QqP",
    "outputId": "34ca8d83-96b6-4651-9049-a8c779613dfc"
   },
   "outputs": [
    {
     "data": {
      "text/plain": [
       "4508"
      ]
     },
     "execution_count": 16,
     "metadata": {},
     "output_type": "execute_result"
    }
   ],
   "source": [
    "10*38*6*2-52"
   ]
  },
  {
   "cell_type": "markdown",
   "metadata": {
    "id": "uy27Mo9d7t2W"
   },
   "source": [
    "Adicionando uma coluna \"Equipe\" em \"est\" ao lado de \"Mandante\" que indica a equipe correspondente com os dados daquela linha."
   ]
  },
  {
   "cell_type": "code",
   "execution_count": 17,
   "metadata": {
    "id": "7TSVKEPetBhn"
   },
   "outputs": [],
   "source": [
    "IDsEst=[]\n",
    "for i in est.index:\n",
    "  if i not in IDsEst:\n",
    "    IDsEst.append(i)\n",
    "time=[]\n",
    "for i in IDsEst:\n",
    "  time.append(par.loc[i][3])\n",
    "  time.append(par.loc[i][4])\n",
    "est.insert(1,\"Equipe\",time,True)"
   ]
  },
  {
   "cell_type": "code",
   "execution_count": 18,
   "metadata": {
    "colab": {
     "base_uri": "https://localhost:8080/",
     "height": 455
    },
    "id": "8T6Bw04M6esX",
    "outputId": "1393ddb0-4728-44ca-e79a-5ed51cf08ba3"
   },
   "outputs": [
    {
     "data": {
      "text/html": [
       "<div>\n",
       "<style scoped>\n",
       "    .dataframe tbody tr th:only-of-type {\n",
       "        vertical-align: middle;\n",
       "    }\n",
       "\n",
       "    .dataframe tbody tr th {\n",
       "        vertical-align: top;\n",
       "    }\n",
       "\n",
       "    .dataframe thead th {\n",
       "        text-align: right;\n",
       "    }\n",
       "</style>\n",
       "<table border=\"1\" class=\"dataframe\">\n",
       "  <thead>\n",
       "    <tr style=\"text-align: right;\">\n",
       "      <th></th>\n",
       "      <th>Temporada</th>\n",
       "      <th>Equipe</th>\n",
       "      <th>Mandante</th>\n",
       "      <th>Chutes</th>\n",
       "      <th>Posse de bola</th>\n",
       "      <th>Passes</th>\n",
       "      <th>Faltas</th>\n",
       "      <th>Cartões amarelos</th>\n",
       "      <th>Cartões vermelhos</th>\n",
       "      <th>Impedimentos</th>\n",
       "      <th>Escanteios</th>\n",
       "    </tr>\n",
       "    <tr>\n",
       "      <th>ID</th>\n",
       "      <th></th>\n",
       "      <th></th>\n",
       "      <th></th>\n",
       "      <th></th>\n",
       "      <th></th>\n",
       "      <th></th>\n",
       "      <th></th>\n",
       "      <th></th>\n",
       "      <th></th>\n",
       "      <th></th>\n",
       "      <th></th>\n",
       "    </tr>\n",
       "  </thead>\n",
       "  <tbody>\n",
       "    <tr>\n",
       "      <th>4987</th>\n",
       "      <td>2015</td>\n",
       "      <td>Palmeiras</td>\n",
       "      <td>1</td>\n",
       "      <td>17.0</td>\n",
       "      <td>50%</td>\n",
       "      <td>406.0</td>\n",
       "      <td>20.0</td>\n",
       "      <td>2.0</td>\n",
       "      <td>0.0</td>\n",
       "      <td>2.0</td>\n",
       "      <td>11.0</td>\n",
       "    </tr>\n",
       "    <tr>\n",
       "      <th>4987</th>\n",
       "      <td>2015</td>\n",
       "      <td>Atlético-MG</td>\n",
       "      <td>0</td>\n",
       "      <td>10.0</td>\n",
       "      <td>50%</td>\n",
       "      <td>426.0</td>\n",
       "      <td>14.0</td>\n",
       "      <td>4.0</td>\n",
       "      <td>0.0</td>\n",
       "      <td>4.0</td>\n",
       "      <td>2.0</td>\n",
       "    </tr>\n",
       "    <tr>\n",
       "      <th>4988</th>\n",
       "      <td>2015</td>\n",
       "      <td>Chapecoense</td>\n",
       "      <td>1</td>\n",
       "      <td>13.0</td>\n",
       "      <td>45%</td>\n",
       "      <td>326.0</td>\n",
       "      <td>20.0</td>\n",
       "      <td>2.0</td>\n",
       "      <td>0.0</td>\n",
       "      <td>3.0</td>\n",
       "      <td>3.0</td>\n",
       "    </tr>\n",
       "    <tr>\n",
       "      <th>4988</th>\n",
       "      <td>2015</td>\n",
       "      <td>Coritiba</td>\n",
       "      <td>0</td>\n",
       "      <td>16.0</td>\n",
       "      <td>55%</td>\n",
       "      <td>388.0</td>\n",
       "      <td>21.0</td>\n",
       "      <td>2.0</td>\n",
       "      <td>0.0</td>\n",
       "      <td>0.0</td>\n",
       "      <td>5.0</td>\n",
       "    </tr>\n",
       "    <tr>\n",
       "      <th>4989</th>\n",
       "      <td>2015</td>\n",
       "      <td>Fluminense</td>\n",
       "      <td>1</td>\n",
       "      <td>26.0</td>\n",
       "      <td>74%</td>\n",
       "      <td>702.0</td>\n",
       "      <td>9.0</td>\n",
       "      <td>2.0</td>\n",
       "      <td>0.0</td>\n",
       "      <td>1.0</td>\n",
       "      <td>5.0</td>\n",
       "    </tr>\n",
       "    <tr>\n",
       "      <th>...</th>\n",
       "      <td>...</td>\n",
       "      <td>...</td>\n",
       "      <td>...</td>\n",
       "      <td>...</td>\n",
       "      <td>...</td>\n",
       "      <td>...</td>\n",
       "      <td>...</td>\n",
       "      <td>...</td>\n",
       "      <td>...</td>\n",
       "      <td>...</td>\n",
       "      <td>...</td>\n",
       "    </tr>\n",
       "    <tr>\n",
       "      <th>7264</th>\n",
       "      <td>2020</td>\n",
       "      <td>Fortaleza</td>\n",
       "      <td>1</td>\n",
       "      <td>18.0</td>\n",
       "      <td>56%</td>\n",
       "      <td>480.0</td>\n",
       "      <td>15.0</td>\n",
       "      <td>0.0</td>\n",
       "      <td>0.0</td>\n",
       "      <td>2.0</td>\n",
       "      <td>8.0</td>\n",
       "    </tr>\n",
       "    <tr>\n",
       "      <th>7265</th>\n",
       "      <td>2020</td>\n",
       "      <td>Bragantino</td>\n",
       "      <td>0</td>\n",
       "      <td>17.0</td>\n",
       "      <td>53%</td>\n",
       "      <td>505.0</td>\n",
       "      <td>4.0</td>\n",
       "      <td>0.0</td>\n",
       "      <td>0.0</td>\n",
       "      <td>2.0</td>\n",
       "      <td>7.0</td>\n",
       "    </tr>\n",
       "    <tr>\n",
       "      <th>7265</th>\n",
       "      <td>2020</td>\n",
       "      <td>Grêmio</td>\n",
       "      <td>1</td>\n",
       "      <td>12.0</td>\n",
       "      <td>47%</td>\n",
       "      <td>469.0</td>\n",
       "      <td>7.0</td>\n",
       "      <td>2.0</td>\n",
       "      <td>1.0</td>\n",
       "      <td>0.0</td>\n",
       "      <td>5.0</td>\n",
       "    </tr>\n",
       "    <tr>\n",
       "      <th>7266</th>\n",
       "      <td>2020</td>\n",
       "      <td>Atlético-GO</td>\n",
       "      <td>0</td>\n",
       "      <td>9.0</td>\n",
       "      <td>44%</td>\n",
       "      <td>435.0</td>\n",
       "      <td>9.0</td>\n",
       "      <td>1.0</td>\n",
       "      <td>0.0</td>\n",
       "      <td>1.0</td>\n",
       "      <td>4.0</td>\n",
       "    </tr>\n",
       "    <tr>\n",
       "      <th>7266</th>\n",
       "      <td>2020</td>\n",
       "      <td>Coritiba</td>\n",
       "      <td>1</td>\n",
       "      <td>18.0</td>\n",
       "      <td>56%</td>\n",
       "      <td>556.0</td>\n",
       "      <td>8.0</td>\n",
       "      <td>0.0</td>\n",
       "      <td>0.0</td>\n",
       "      <td>1.0</td>\n",
       "      <td>7.0</td>\n",
       "    </tr>\n",
       "  </tbody>\n",
       "</table>\n",
       "<p>4508 rows × 11 columns</p>\n",
       "</div>"
      ],
      "text/plain": [
       "      Temporada       Equipe  ...  Impedimentos  Escanteios\n",
       "ID                            ...                          \n",
       "4987       2015    Palmeiras  ...           2.0        11.0\n",
       "4987       2015  Atlético-MG  ...           4.0         2.0\n",
       "4988       2015  Chapecoense  ...           3.0         3.0\n",
       "4988       2015     Coritiba  ...           0.0         5.0\n",
       "4989       2015   Fluminense  ...           1.0         5.0\n",
       "...         ...          ...  ...           ...         ...\n",
       "7264       2020    Fortaleza  ...           2.0         8.0\n",
       "7265       2020   Bragantino  ...           2.0         7.0\n",
       "7265       2020       Grêmio  ...           0.0         5.0\n",
       "7266       2020  Atlético-GO  ...           1.0         4.0\n",
       "7266       2020     Coritiba  ...           1.0         7.0\n",
       "\n",
       "[4508 rows x 11 columns]"
      ]
     },
     "execution_count": 18,
     "metadata": {},
     "output_type": "execute_result"
    }
   ],
   "source": [
    "est"
   ]
  },
  {
   "cell_type": "markdown",
   "metadata": {
    "id": "2qljqvUL8ixX"
   },
   "source": [
    "Toda limpeza e organização dos dados foi concluída. Partiremos para a formulação das funções que utilizaremos.\n",
    "\n",
    "---"
   ]
  },
  {
   "cell_type": "markdown",
   "metadata": {
    "id": "Uq8m5tnZRuou"
   },
   "source": [
    "# Funções"
   ]
  },
  {
   "cell_type": "markdown",
   "metadata": {
    "id": "rxSu-xmoGbag"
   },
   "source": [
    "Função que isola todas as partidas de uma temporada até a rodada informada:"
   ]
  },
  {
   "cell_type": "code",
   "execution_count": 19,
   "metadata": {
    "id": "q5sIP8gT2Klf"
   },
   "outputs": [],
   "source": [
    "def fjogos(temporada,rodada):\n",
    "  jogos=par[(par['Temporada']==temporada) & (par['Rodada']<=rodada)]\n",
    "  jogos.index.name='ID'\n",
    "  return jogos"
   ]
  },
  {
   "cell_type": "markdown",
   "metadata": {
    "id": "UdeWEH3E8ZYO"
   },
   "source": [
    "Função que recebe a temporada e a rodada e retorna a tabela ao final da rodada informada:\n",
    "\n",
    "* Observação: há 14 casos de decisões judiciais que alteraram as pontuações de certas equipes em algumas edições. Essas alterações não serão ignoradas, serão adicionadas manualmente no script da função, mas serão consideradas apenas após a última rodada do campeonato. Exemplo: se o Fluminense foi punido com -3 pontos na edição de 2003 após a 31ª rodada, esses pontos só serão descontados após a **última** rodada."
   ]
  },
  {
   "cell_type": "code",
   "execution_count": 20,
   "metadata": {
    "id": "s3SqtGcFypyN"
   },
   "outputs": [],
   "source": [
    "def montaTabela(temporada,rodada):\n",
    "  if temporada==2003 or temporada==2004:\n",
    "    nTimes=24\n",
    "  if temporada==2005:\n",
    "    nTimes=22\n",
    "  if temporada>2005:\n",
    "    nTimes=20\n",
    "  jogos=fjogos(temporada,rodada)\n",
    "  times=[]\n",
    "  tabela=pd.DataFrame()\n",
    "  for i in par[(par['Temporada']==temporada)]['Mandante']:\n",
    "    if i not in times:\n",
    "      times.append(i)\n",
    "  tabela['Equipe']=times\n",
    "  tabela['Pontos']=[0]*nTimes\n",
    "  tabela['Jogos']=[0]*nTimes\n",
    "  tabela['Vitórias']=[0]*nTimes\n",
    "  tabela['Empates']=[0]*nTimes\n",
    "  tabela['Derrotas']=[0]*nTimes\n",
    "  tabela['Vitórias']=[0]*nTimes\n",
    "  tabela['GP']=[0]*nTimes\n",
    "  tabela['GC']=[0]*nTimes\n",
    "  tabela['SG']=[0]*nTimes\n",
    "  tabela.index=tabela['Equipe']\n",
    "  tabela.drop('Equipe', axis=1, inplace=True)\n",
    "  for i in jogos.index:\n",
    "    if par.loc[i]['Vencedor']!='-': #Não empate\n",
    "      vencedor=par.loc[i]['Vencedor']\n",
    "      if vencedor==par.loc[i]['Mandante']:\n",
    "        perdedor=par.loc[i]['Visitante']\n",
    "        tabela.loc[vencedor]['GP']+=jogos.loc[i]['Mandante Placar']\n",
    "        tabela.loc[perdedor]['GC']+=jogos.loc[i]['Mandante Placar']\n",
    "        tabela.loc[perdedor]['GP']+=jogos.loc[i]['Visitante Placar']\n",
    "        tabela.loc[vencedor]['GC']+=jogos.loc[i]['Visitante Placar']\n",
    "        tabela.loc[vencedor]['SG']+=(jogos.loc[i]['Mandante Placar']-jogos.loc[i]['Visitante Placar'])\n",
    "        tabela.loc[perdedor]['SG']+=(jogos.loc[i]['Visitante Placar']-jogos.loc[i]['Mandante Placar'])\n",
    "      if vencedor==par.loc[i]['Visitante']:\n",
    "        perdedor=par.loc[i]['Mandante']\n",
    "        tabela.loc[vencedor]['GP']+=jogos.loc[i]['Visitante Placar']\n",
    "        tabela.loc[perdedor]['GC']+=jogos.loc[i]['Visitante Placar']\n",
    "        tabela.loc[perdedor]['GP']+=jogos.loc[i]['Mandante Placar']\n",
    "        tabela.loc[vencedor]['GC']+=jogos.loc[i]['Mandante Placar']\n",
    "        tabela.loc[vencedor]['SG']+=(jogos.loc[i]['Visitante Placar']-jogos.loc[i]['Mandante Placar'])\n",
    "        tabela.loc[perdedor]['SG']+=(jogos.loc[i]['Mandante Placar']-jogos.loc[i]['Visitante Placar'])\n",
    "      tabela.loc[vencedor]['Pontos']+=3\n",
    "      tabela.loc[vencedor]['Jogos']+=1\n",
    "      tabela.loc[vencedor]['Vitórias']+=1\n",
    "      tabela.loc[perdedor]['Jogos']+=1\n",
    "      tabela.loc[perdedor]['Derrotas']+=1\n",
    "    if par.loc[i]['Vencedor']=='-': #Empate\n",
    "      casa=par.loc[i]['Mandante']\n",
    "      fora=par.loc[i]['Visitante']\n",
    "      tabela.loc[casa]['Pontos']+=1\n",
    "      tabela.loc[fora]['Pontos']+=1\n",
    "      tabela.loc[casa]['Jogos']+=1\n",
    "      tabela.loc[fora]['Jogos']+=1\n",
    "      tabela.loc[casa]['Empates']+=1\n",
    "      tabela.loc[fora]['Empates']+=1\n",
    "      tabela.loc[casa]['GP']+=jogos.loc[i]['Mandante Placar']\n",
    "      tabela.loc[casa]['GC']+=jogos.loc[i]['Visitante Placar']\n",
    "      tabela.loc[fora]['GP']+=jogos.loc[i]['Visitante Placar']\n",
    "      tabela.loc[fora]['GC']+=jogos.loc[i]['Mandante Placar']\n",
    "  if temporada==2003:\n",
    "    tabela.loc['Fluminense']['Pontos']+=2 # Escalação irregular por parte do Paysandu\t\n",
    "    tabela.loc['Paysandu']['Pontos']-=8 # Escalação irregular de jogadores\t\n",
    "    tabela.loc['Ponte Preta']['Pontos']-=4 # Escalação irregular de jogadores\t\n",
    "    tabela.loc['Ponte Preta']['Pontos']+=3 # Escalação irregular por parte do Paysandu\t\n",
    "    tabela.loc['Juventude']['Pontos']+=3 # Escalação irregular por parte da Ponte Preta\t\n",
    "    tabela.loc['São Caetano']['Pontos']+=3 # Escalação irregular por parte do Paysandu\t\n",
    "    tabela.loc['Internacional']['Pontos']+=2 # Escalação irregular por parte da Ponte Preta\t\n",
    "    tabela.loc['Corinthians']['Pontos']+=2 # Escalação irregular por parte do Paysandu\t\n",
    "  if temporada==2004:\n",
    "    tabela.loc['São Caetano']['Pontos']-=24 # Escalação irregular de jogador (Serginho)\t\n",
    "  if temporada==2005:\n",
    "    tabela.loc['Brasiliense']['Pontos']-=1 # Venda irregular de ingressos diante do Vasco\t\n",
    "    tabela.loc['Vasco']['Pontos']+=2 # Venda irregular de ingressos por parte do Brasiliense\t\n",
    "  if temporada==2010:\n",
    "    tabela.loc['Grêmio Prudente']['Pontos']-=3 # Escalação irregular de jogadores\t\n",
    "  if temporada==2013:\n",
    "    tabela.loc['Flamengo']['Pontos']-=4 # Escalação irregular de jogadores\t\n",
    "    tabela.loc['Portuguesa']['Pontos']-=4 # Escalação irregular de jogadores\t\n",
    "  return tabela.sort_values(by=['Pontos','Vitórias','SG','GP'] , ascending=False)"
   ]
  },
  {
   "cell_type": "code",
   "execution_count": 21,
   "metadata": {
    "colab": {
     "base_uri": "https://localhost:8080/",
     "height": 708
    },
    "id": "YzqtMKurlMpZ",
    "outputId": "278ca977-2e4c-47ba-88da-053391f4f5bb"
   },
   "outputs": [
    {
     "data": {
      "text/html": [
       "<div>\n",
       "<style scoped>\n",
       "    .dataframe tbody tr th:only-of-type {\n",
       "        vertical-align: middle;\n",
       "    }\n",
       "\n",
       "    .dataframe tbody tr th {\n",
       "        vertical-align: top;\n",
       "    }\n",
       "\n",
       "    .dataframe thead th {\n",
       "        text-align: right;\n",
       "    }\n",
       "</style>\n",
       "<table border=\"1\" class=\"dataframe\">\n",
       "  <thead>\n",
       "    <tr style=\"text-align: right;\">\n",
       "      <th></th>\n",
       "      <th>Pontos</th>\n",
       "      <th>Jogos</th>\n",
       "      <th>Vitórias</th>\n",
       "      <th>Empates</th>\n",
       "      <th>Derrotas</th>\n",
       "      <th>GP</th>\n",
       "      <th>GC</th>\n",
       "      <th>SG</th>\n",
       "    </tr>\n",
       "    <tr>\n",
       "      <th>Equipe</th>\n",
       "      <th></th>\n",
       "      <th></th>\n",
       "      <th></th>\n",
       "      <th></th>\n",
       "      <th></th>\n",
       "      <th></th>\n",
       "      <th></th>\n",
       "      <th></th>\n",
       "    </tr>\n",
       "  </thead>\n",
       "  <tbody>\n",
       "    <tr>\n",
       "      <th>Cruzeiro</th>\n",
       "      <td>76</td>\n",
       "      <td>38</td>\n",
       "      <td>23</td>\n",
       "      <td>7</td>\n",
       "      <td>8</td>\n",
       "      <td>77</td>\n",
       "      <td>37</td>\n",
       "      <td>40</td>\n",
       "    </tr>\n",
       "    <tr>\n",
       "      <th>Grêmio</th>\n",
       "      <td>65</td>\n",
       "      <td>38</td>\n",
       "      <td>18</td>\n",
       "      <td>11</td>\n",
       "      <td>9</td>\n",
       "      <td>42</td>\n",
       "      <td>35</td>\n",
       "      <td>7</td>\n",
       "    </tr>\n",
       "    <tr>\n",
       "      <th>Athlético-PR</th>\n",
       "      <td>64</td>\n",
       "      <td>38</td>\n",
       "      <td>18</td>\n",
       "      <td>10</td>\n",
       "      <td>10</td>\n",
       "      <td>65</td>\n",
       "      <td>49</td>\n",
       "      <td>16</td>\n",
       "    </tr>\n",
       "    <tr>\n",
       "      <th>Botafogo-RJ</th>\n",
       "      <td>61</td>\n",
       "      <td>38</td>\n",
       "      <td>17</td>\n",
       "      <td>10</td>\n",
       "      <td>11</td>\n",
       "      <td>55</td>\n",
       "      <td>41</td>\n",
       "      <td>14</td>\n",
       "    </tr>\n",
       "    <tr>\n",
       "      <th>Vitória</th>\n",
       "      <td>59</td>\n",
       "      <td>38</td>\n",
       "      <td>16</td>\n",
       "      <td>11</td>\n",
       "      <td>11</td>\n",
       "      <td>59</td>\n",
       "      <td>53</td>\n",
       "      <td>6</td>\n",
       "    </tr>\n",
       "    <tr>\n",
       "      <th>Goiás</th>\n",
       "      <td>59</td>\n",
       "      <td>38</td>\n",
       "      <td>16</td>\n",
       "      <td>11</td>\n",
       "      <td>11</td>\n",
       "      <td>48</td>\n",
       "      <td>44</td>\n",
       "      <td>4</td>\n",
       "    </tr>\n",
       "    <tr>\n",
       "      <th>Santos</th>\n",
       "      <td>57</td>\n",
       "      <td>38</td>\n",
       "      <td>15</td>\n",
       "      <td>12</td>\n",
       "      <td>11</td>\n",
       "      <td>51</td>\n",
       "      <td>38</td>\n",
       "      <td>13</td>\n",
       "    </tr>\n",
       "    <tr>\n",
       "      <th>Atlético-MG</th>\n",
       "      <td>57</td>\n",
       "      <td>38</td>\n",
       "      <td>15</td>\n",
       "      <td>12</td>\n",
       "      <td>11</td>\n",
       "      <td>49</td>\n",
       "      <td>38</td>\n",
       "      <td>11</td>\n",
       "    </tr>\n",
       "    <tr>\n",
       "      <th>São Paulo</th>\n",
       "      <td>50</td>\n",
       "      <td>38</td>\n",
       "      <td>14</td>\n",
       "      <td>8</td>\n",
       "      <td>16</td>\n",
       "      <td>39</td>\n",
       "      <td>40</td>\n",
       "      <td>-1</td>\n",
       "    </tr>\n",
       "    <tr>\n",
       "      <th>Corinthians</th>\n",
       "      <td>50</td>\n",
       "      <td>38</td>\n",
       "      <td>11</td>\n",
       "      <td>17</td>\n",
       "      <td>10</td>\n",
       "      <td>27</td>\n",
       "      <td>22</td>\n",
       "      <td>5</td>\n",
       "    </tr>\n",
       "    <tr>\n",
       "      <th>Coritiba</th>\n",
       "      <td>48</td>\n",
       "      <td>38</td>\n",
       "      <td>12</td>\n",
       "      <td>12</td>\n",
       "      <td>14</td>\n",
       "      <td>42</td>\n",
       "      <td>45</td>\n",
       "      <td>-3</td>\n",
       "    </tr>\n",
       "    <tr>\n",
       "      <th>Bahia</th>\n",
       "      <td>48</td>\n",
       "      <td>38</td>\n",
       "      <td>12</td>\n",
       "      <td>12</td>\n",
       "      <td>14</td>\n",
       "      <td>37</td>\n",
       "      <td>45</td>\n",
       "      <td>-8</td>\n",
       "    </tr>\n",
       "    <tr>\n",
       "      <th>Internacional</th>\n",
       "      <td>48</td>\n",
       "      <td>38</td>\n",
       "      <td>11</td>\n",
       "      <td>15</td>\n",
       "      <td>12</td>\n",
       "      <td>51</td>\n",
       "      <td>52</td>\n",
       "      <td>-1</td>\n",
       "    </tr>\n",
       "    <tr>\n",
       "      <th>Criciúma</th>\n",
       "      <td>46</td>\n",
       "      <td>38</td>\n",
       "      <td>13</td>\n",
       "      <td>7</td>\n",
       "      <td>18</td>\n",
       "      <td>49</td>\n",
       "      <td>63</td>\n",
       "      <td>-14</td>\n",
       "    </tr>\n",
       "    <tr>\n",
       "      <th>Fluminense</th>\n",
       "      <td>46</td>\n",
       "      <td>38</td>\n",
       "      <td>12</td>\n",
       "      <td>10</td>\n",
       "      <td>16</td>\n",
       "      <td>43</td>\n",
       "      <td>47</td>\n",
       "      <td>-4</td>\n",
       "    </tr>\n",
       "    <tr>\n",
       "      <th>Flamengo</th>\n",
       "      <td>45</td>\n",
       "      <td>38</td>\n",
       "      <td>12</td>\n",
       "      <td>13</td>\n",
       "      <td>13</td>\n",
       "      <td>43</td>\n",
       "      <td>46</td>\n",
       "      <td>-3</td>\n",
       "    </tr>\n",
       "    <tr>\n",
       "      <th>Portuguesa</th>\n",
       "      <td>44</td>\n",
       "      <td>38</td>\n",
       "      <td>12</td>\n",
       "      <td>12</td>\n",
       "      <td>14</td>\n",
       "      <td>50</td>\n",
       "      <td>46</td>\n",
       "      <td>4</td>\n",
       "    </tr>\n",
       "    <tr>\n",
       "      <th>Vasco</th>\n",
       "      <td>44</td>\n",
       "      <td>38</td>\n",
       "      <td>11</td>\n",
       "      <td>11</td>\n",
       "      <td>16</td>\n",
       "      <td>50</td>\n",
       "      <td>61</td>\n",
       "      <td>-11</td>\n",
       "    </tr>\n",
       "    <tr>\n",
       "      <th>Ponte Preta</th>\n",
       "      <td>37</td>\n",
       "      <td>38</td>\n",
       "      <td>9</td>\n",
       "      <td>10</td>\n",
       "      <td>19</td>\n",
       "      <td>37</td>\n",
       "      <td>55</td>\n",
       "      <td>-18</td>\n",
       "    </tr>\n",
       "    <tr>\n",
       "      <th>Náutico</th>\n",
       "      <td>20</td>\n",
       "      <td>38</td>\n",
       "      <td>5</td>\n",
       "      <td>5</td>\n",
       "      <td>28</td>\n",
       "      <td>22</td>\n",
       "      <td>79</td>\n",
       "      <td>-57</td>\n",
       "    </tr>\n",
       "  </tbody>\n",
       "</table>\n",
       "</div>"
      ],
      "text/plain": [
       "               Pontos  Jogos  Vitórias  Empates  Derrotas  GP  GC  SG\n",
       "Equipe                                                               \n",
       "Cruzeiro           76     38        23        7         8  77  37  40\n",
       "Grêmio             65     38        18       11         9  42  35   7\n",
       "Athlético-PR       64     38        18       10        10  65  49  16\n",
       "Botafogo-RJ        61     38        17       10        11  55  41  14\n",
       "Vitória            59     38        16       11        11  59  53   6\n",
       "Goiás              59     38        16       11        11  48  44   4\n",
       "Santos             57     38        15       12        11  51  38  13\n",
       "Atlético-MG        57     38        15       12        11  49  38  11\n",
       "São Paulo          50     38        14        8        16  39  40  -1\n",
       "Corinthians        50     38        11       17        10  27  22   5\n",
       "Coritiba           48     38        12       12        14  42  45  -3\n",
       "Bahia              48     38        12       12        14  37  45  -8\n",
       "Internacional      48     38        11       15        12  51  52  -1\n",
       "Criciúma           46     38        13        7        18  49  63 -14\n",
       "Fluminense         46     38        12       10        16  43  47  -4\n",
       "Flamengo           45     38        12       13        13  43  46  -3\n",
       "Portuguesa         44     38        12       12        14  50  46   4\n",
       "Vasco              44     38        11       11        16  50  61 -11\n",
       "Ponte Preta        37     38         9       10        19  37  55 -18\n",
       "Náutico            20     38         5        5        28  22  79 -57"
      ]
     },
     "execution_count": 21,
     "metadata": {},
     "output_type": "execute_result"
    }
   ],
   "source": [
    "montaTabela(2013,38)"
   ]
  },
  {
   "cell_type": "markdown",
   "metadata": {
    "id": "23tpmp8RJHsC"
   },
   "source": [
    "Função que recebe temporada e rodada e retorna times que foram líderes pelo menos uma vez e por quantas partidas lideraram:"
   ]
  },
  {
   "cell_type": "code",
   "execution_count": 22,
   "metadata": {
    "id": "mqDyJAZi3q0V"
   },
   "outputs": [],
   "source": [
    "def vezesLíder(temporada,rodada):\n",
    "  times2=[]\n",
    "  tabela2=pd.DataFrame()\n",
    "  for i in par[(par['Temporada']==temporada)]['Mandante']:\n",
    "      if i not in times2:\n",
    "        times2.append(i)\n",
    "  tabela2['Equipe']=times2\n",
    "  tabela2['Líder']=[0]*20\n",
    "  tabela2.index=tabela2['Equipe']\n",
    "  tabela2.drop('Equipe', axis=1, inplace=True)\n",
    "  for i in range(1,rodada+1):\n",
    "    lider=montaTabela(temporada,i)\n",
    "    liderdavez=lider.index[0]\n",
    "    tabela2.loc[liderdavez]['Líder']+=1\n",
    "  for i in tabela2.index:\n",
    "    if tabela2.loc[i]['Líder']==0:\n",
    "      tabela2=tabela2.drop(i)\n",
    "  return tabela2.sort_values(by='Líder' , ascending=False)"
   ]
  },
  {
   "cell_type": "markdown",
   "metadata": {
    "id": "cT3GOpyrLXzW"
   },
   "source": [
    "Função que recebe temporada e tipo de dados, nesse caso, impedimentos ('i'), cartões amarelos ('ca'), cartões vermelhos ('cv') e faltas ('f'), e retorna o número de vezes que essas infrações ocorreram na temporada."
   ]
  },
  {
   "cell_type": "code",
   "execution_count": 23,
   "metadata": {
    "id": "WnCKlf-jMAFb"
   },
   "outputs": [],
   "source": [
    "def contaDados(temporada,tipo): #'i' para impedimentos, 'ca' para cartões amarelos, 'cv' para cartões vermelhos, 'f' para faltas\n",
    "  if tipo=='i':\n",
    "    dado='Impedimentos'\n",
    "  if tipo=='ca':\n",
    "    dado='Cartões amarelos'\n",
    "  if tipo=='cv':\n",
    "    dado='Cartões vermelhos'\n",
    "  if tipo=='f':\n",
    "    dado='Faltas'\n",
    "  temp=fjogos(temporada,38)\n",
    "  return int(est.loc[temp.iloc[0].name:temp.iloc[-1].name][dado].sum())\n"
   ]
  },
  {
   "cell_type": "markdown",
   "metadata": {
    "id": "3VQ49vS5MGRO"
   },
   "source": [
    "Função que recebe temporada e tipo de dados, nesse caso, impedimentos ('i'), cartões amarelos ('ca'), cartões vermelhos ('cv'), faltas ('f') e passes ('p'), e retorna os times com os maiores números observados para o tipo de dado."
   ]
  },
  {
   "cell_type": "code",
   "execution_count": 24,
   "metadata": {
    "id": "vi1_s2w2MIQG"
   },
   "outputs": [],
   "source": [
    "def contaDadosTop(temporada,tipo): #'i' para impedimentos, 'ca' para cartões amarelos, 'cv' para cartões vermelhos, 'f' para faltas, 'p' para passes\n",
    "  times={}\n",
    "  if tipo=='i':\n",
    "    dado='Impedimentos'\n",
    "  if tipo=='ca':\n",
    "    dado='Cartões amarelos'\n",
    "  if tipo=='cv':\n",
    "    dado='Cartões vermelhos'\n",
    "  if tipo=='f':\n",
    "    dado='Faltas'\n",
    "  if tipo=='p':\n",
    "    dado='Passes'\n",
    "  temp=fjogos(2016,38)\n",
    "  base=est.loc[temp.iloc[0].name:temp.iloc[-1].name]\n",
    "  a=base.groupby('Equipe').sum().astype(int)\n",
    "  return a[dado].sort_values(0,ascending=False)"
   ]
  },
  {
   "cell_type": "code",
   "execution_count": 25,
   "metadata": {
    "colab": {
     "base_uri": "https://localhost:8080/"
    },
    "id": "fxj0h-l8NQnv",
    "outputId": "fac7c286-12f8-4227-e34a-b8aa696a2dc9"
   },
   "outputs": [
    {
     "data": {
      "text/plain": [
       "Equipe\n",
       "Palmeiras        642\n",
       "Ponte Preta      632\n",
       "São Paulo        628\n",
       "Botafogo-RJ      626\n",
       "Vitória          620\n",
       "Internacional    617\n",
       "Fluminense       616\n",
       "Santa Cruz       610\n",
       "Atlético-MG      610\n",
       "Coritiba         609\n",
       "Figueirense      596\n",
       "Grêmio           593\n",
       "Sport            589\n",
       "Chapecoense      586\n",
       "Athlético-PR     585\n",
       "Flamengo         554\n",
       "Corinthians      540\n",
       "América-MG       535\n",
       "Cruzeiro         530\n",
       "Santos           514\n",
       "Name: Faltas, dtype: int64"
      ]
     },
     "execution_count": 25,
     "metadata": {},
     "output_type": "execute_result"
    }
   ],
   "source": [
    "contaDadosTop(2016,'f')"
   ]
  },
  {
   "cell_type": "code",
   "execution_count": 26,
   "metadata": {
    "colab": {
     "base_uri": "https://localhost:8080/"
    },
    "id": "9CYM2S9tcUnX",
    "outputId": "b68619a3-9ab6-4c24-e6e8-5b33e73a4f6b"
   },
   "outputs": [
    {
     "data": {
      "text/plain": [
       "array([97, 93, 85, 84, 82])"
      ]
     },
     "execution_count": 26,
     "metadata": {},
     "output_type": "execute_result"
    }
   ],
   "source": [
    "contaDadosTop(2016,'i').nlargest(5).values"
   ]
  },
  {
   "cell_type": "markdown",
   "metadata": {
    "id": "BoWnE5pfgW0S"
   },
   "source": [
    "Partindo para a construção de relações e visualização de dados. Vamos começar com a tabela acumulada do Campeonato Brasileiro desde o início dos pontos corridos. Em outras palavras, a tabela do campeonato hoje juntando as pontuações de cada time de cada temporada até 2020."
   ]
  },
  {
   "cell_type": "markdown",
   "metadata": {
    "id": "VBR8bcJ4LVRt"
   },
   "source": [
    "# Tabela acumulada dos pontos corridos até 2020"
   ]
  },
  {
   "cell_type": "code",
   "execution_count": 36,
   "metadata": {
    "id": "bfa8GrhsA6pq"
   },
   "outputs": [],
   "source": [
    "tabela=pd.DataFrame()\n",
    "times=par.Mandante.unique()\n",
    "nTimes=len(times)\n",
    "participacoes={}\n",
    "for i in times:\n",
    "  participacoes[i]=0\n",
    "tabela['Pontos']=[0]*nTimes\n",
    "tabela['Jogos']=[0]*nTimes\n",
    "tabela['Vitórias']=[0]*nTimes\n",
    "tabela['Empates']=[0]*nTimes\n",
    "tabela['Derrotas']=[0]*nTimes\n",
    "tabela['Vitórias']=[0]*nTimes\n",
    "tabela['GP']=[0]*nTimes\n",
    "tabela['GC']=[0]*nTimes\n",
    "tabela['SG']=[0]*nTimes\n",
    "tabela['Edições']=[0]*nTimes\n",
    "tabela.index=times\n",
    "for temporada in list(range(2003,2020+1)):\n",
    "  if temporada==2003:\n",
    "    rodada=46\n",
    "  if temporada==2004:\n",
    "    rodada=46\n",
    "  if temporada==2005:\n",
    "    rodada=42\n",
    "  if temporada>2005:\n",
    "    rodada=38\n",
    "  jogos=fjogos(temporada,rodada)\n",
    "  participantes=jogos.Mandante.unique() #Times que participaram da temporada\n",
    "  for i in participantes:\n",
    "    participacoes[i]+=1\n",
    "  for i in jogos.index:\n",
    "    if par.loc[i]['Vencedor']!='-': #Não empate\n",
    "      vencedor=par.loc[i]['Vencedor']\n",
    "      if vencedor==par.loc[i]['Mandante']:\n",
    "        perdedor=par.loc[i]['Visitante']\n",
    "        tabela.loc[vencedor]['GP']+=jogos.loc[i]['Mandante Placar']\n",
    "        tabela.loc[perdedor]['GC']+=jogos.loc[i]['Mandante Placar']\n",
    "        tabela.loc[perdedor]['GP']+=jogos.loc[i]['Visitante Placar']\n",
    "        tabela.loc[vencedor]['GC']+=jogos.loc[i]['Visitante Placar']\n",
    "        tabela.loc[vencedor]['SG']+=(jogos.loc[i]['Mandante Placar']-jogos.loc[i]['Visitante Placar'])\n",
    "        tabela.loc[perdedor]['SG']+=(jogos.loc[i]['Visitante Placar']-jogos.loc[i]['Mandante Placar'])\n",
    "      if vencedor==par.loc[i]['Visitante']:\n",
    "        perdedor=par.loc[i]['Mandante']\n",
    "        tabela.loc[vencedor]['GP']+=jogos.loc[i]['Visitante Placar']\n",
    "        tabela.loc[perdedor]['GC']+=jogos.loc[i]['Visitante Placar']\n",
    "        tabela.loc[perdedor]['GP']+=jogos.loc[i]['Mandante Placar']\n",
    "        tabela.loc[vencedor]['GC']+=jogos.loc[i]['Mandante Placar']\n",
    "        tabela.loc[vencedor]['SG']+=(jogos.loc[i]['Visitante Placar']-jogos.loc[i]['Mandante Placar'])\n",
    "        tabela.loc[perdedor]['SG']+=(jogos.loc[i]['Mandante Placar']-jogos.loc[i]['Visitante Placar'])\n",
    "      tabela.loc[vencedor]['Pontos']+=3\n",
    "      tabela.loc[vencedor]['Jogos']+=1\n",
    "      tabela.loc[vencedor]['Vitórias']+=1\n",
    "      tabela.loc[perdedor]['Jogos']+=1\n",
    "      tabela.loc[perdedor]['Derrotas']+=1\n",
    "    if par.loc[i]['Vencedor']=='-': #Empate\n",
    "      casa=par.loc[i]['Mandante']\n",
    "      fora=par.loc[i]['Visitante']\n",
    "      tabela.loc[casa]['Pontos']+=1\n",
    "      tabela.loc[fora]['Pontos']+=1\n",
    "      tabela.loc[casa]['Jogos']+=1\n",
    "      tabela.loc[fora]['Jogos']+=1\n",
    "      tabela.loc[casa]['Empates']+=1\n",
    "      tabela.loc[fora]['Empates']+=1\n",
    "      tabela.loc[casa]['GP']+=jogos.loc[i]['Mandante Placar']\n",
    "      tabela.loc[casa]['GC']+=jogos.loc[i]['Visitante Placar']\n",
    "      tabela.loc[fora]['GP']+=jogos.loc[i]['Visitante Placar']\n",
    "      tabela.loc[fora]['GC']+=jogos.loc[i]['Mandante Placar']\n",
    "# Decisões Judiciais:\n",
    "  if temporada==2003:\n",
    "    tabela.loc['Fluminense']['Pontos']+=2 # Escalação irregular por parte do Paysandu\t\n",
    "    tabela.loc['Paysandu']['Pontos']-=8 # Escalação irregular de jogadores\t\n",
    "    tabela.loc['Ponte Preta']['Pontos']-=4 # Escalação irregular de jogadores\t\n",
    "    tabela.loc['Ponte Preta']['Pontos']+=3 # Escalação irregular por parte do Paysandu\t\n",
    "    tabela.loc['Juventude']['Pontos']+=3 # Escalação irregular por parte da Ponte Preta\t\n",
    "    tabela.loc['São Caetano']['Pontos']+=3 # Escalação irregular por parte do Paysandu\t\n",
    "    tabela.loc['Internacional']['Pontos']+=2 # Escalação irregular por parte da Ponte Preta\t\n",
    "    tabela.loc['Corinthians']['Pontos']+=2 # Escalação irregular por parte do Paysandu\t\n",
    "  if temporada==2004:\n",
    "    tabela.loc['São Caetano']['Pontos']-=24 # Escalação irregular de jogador (Serginho)\t\n",
    "  if temporada==2005:\n",
    "    tabela.loc['Brasiliense']['Pontos']-=1 # Venda irregular de ingressos diante do Vasco\t\n",
    "    tabela.loc['Vasco']['Pontos']+=2 # Venda irregular de ingressos por parte do Brasiliense\t\n",
    "  if temporada==2010:\n",
    "    tabela.loc['Grêmio Prudente']['Pontos']-=3 # Escalação irregular de jogadores\t\n",
    "  if temporada==2013:\n",
    "    tabela.loc['Flamengo']['Pontos']-=4 # Escalação irregular de jogadores\t\n",
    "    tabela.loc['Portuguesa']['Pontos']-=4 # Escalação irregular de jogadores\n",
    "tabelaAcumulada=tabela.sort_values(by=['Pontos','Vitórias','SG','GP'] , ascending=False)\n",
    "for i in participacoes:\n",
    "  tabelaAcumulada.loc[i]['Edições']=participacoes[i]\n",
    "tabelaAcumulada.insert(0,'Equipe',tabelaAcumulada.index,True)\n",
    "tabelaAcumulada.index=list(range(1,len(tabelaAcumulada)+1))\n",
    "tabelaAcumulada.index.name='Colocação'"
   ]
  },
  {
   "cell_type": "code",
   "execution_count": 37,
   "metadata": {
    "colab": {
     "base_uri": "https://localhost:8080/",
     "height": 1000
    },
    "id": "TyEV0M7qfD8t",
    "outputId": "c01487b3-533d-4ff4-cc1f-ed8712274760"
   },
   "outputs": [
    {
     "data": {
      "text/html": [
       "<div>\n",
       "<style scoped>\n",
       "    .dataframe tbody tr th:only-of-type {\n",
       "        vertical-align: middle;\n",
       "    }\n",
       "\n",
       "    .dataframe tbody tr th {\n",
       "        vertical-align: top;\n",
       "    }\n",
       "\n",
       "    .dataframe thead th {\n",
       "        text-align: right;\n",
       "    }\n",
       "</style>\n",
       "<table border=\"1\" class=\"dataframe\">\n",
       "  <thead>\n",
       "    <tr style=\"text-align: right;\">\n",
       "      <th></th>\n",
       "      <th>Equipe</th>\n",
       "      <th>Pontos</th>\n",
       "      <th>Jogos</th>\n",
       "      <th>Vitórias</th>\n",
       "      <th>Empates</th>\n",
       "      <th>Derrotas</th>\n",
       "      <th>GP</th>\n",
       "      <th>GC</th>\n",
       "      <th>SG</th>\n",
       "      <th>Edições</th>\n",
       "    </tr>\n",
       "    <tr>\n",
       "      <th>Colocação</th>\n",
       "      <th></th>\n",
       "      <th></th>\n",
       "      <th></th>\n",
       "      <th></th>\n",
       "      <th></th>\n",
       "      <th></th>\n",
       "      <th></th>\n",
       "      <th></th>\n",
       "      <th></th>\n",
       "      <th></th>\n",
       "    </tr>\n",
       "  </thead>\n",
       "  <tbody>\n",
       "    <tr>\n",
       "      <th>1</th>\n",
       "      <td>São Paulo</td>\n",
       "      <td>1169</td>\n",
       "      <td>704</td>\n",
       "      <td>327</td>\n",
       "      <td>188</td>\n",
       "      <td>189</td>\n",
       "      <td>1037</td>\n",
       "      <td>760</td>\n",
       "      <td>277</td>\n",
       "      <td>18</td>\n",
       "    </tr>\n",
       "    <tr>\n",
       "      <th>2</th>\n",
       "      <td>Santos</td>\n",
       "      <td>1097</td>\n",
       "      <td>704</td>\n",
       "      <td>305</td>\n",
       "      <td>182</td>\n",
       "      <td>217</td>\n",
       "      <td>1060</td>\n",
       "      <td>837</td>\n",
       "      <td>223</td>\n",
       "      <td>18</td>\n",
       "    </tr>\n",
       "    <tr>\n",
       "      <th>3</th>\n",
       "      <td>Flamengo</td>\n",
       "      <td>1080</td>\n",
       "      <td>704</td>\n",
       "      <td>296</td>\n",
       "      <td>196</td>\n",
       "      <td>212</td>\n",
       "      <td>984</td>\n",
       "      <td>845</td>\n",
       "      <td>139</td>\n",
       "      <td>18</td>\n",
       "    </tr>\n",
       "    <tr>\n",
       "      <th>4</th>\n",
       "      <td>Internacional</td>\n",
       "      <td>1045</td>\n",
       "      <td>666</td>\n",
       "      <td>292</td>\n",
       "      <td>167</td>\n",
       "      <td>207</td>\n",
       "      <td>893</td>\n",
       "      <td>734</td>\n",
       "      <td>159</td>\n",
       "      <td>17</td>\n",
       "    </tr>\n",
       "    <tr>\n",
       "      <th>5</th>\n",
       "      <td>Corinthians</td>\n",
       "      <td>1037</td>\n",
       "      <td>666</td>\n",
       "      <td>281</td>\n",
       "      <td>192</td>\n",
       "      <td>193</td>\n",
       "      <td>868</td>\n",
       "      <td>712</td>\n",
       "      <td>156</td>\n",
       "      <td>17</td>\n",
       "    </tr>\n",
       "    <tr>\n",
       "      <th>6</th>\n",
       "      <td>Cruzeiro</td>\n",
       "      <td>1030</td>\n",
       "      <td>666</td>\n",
       "      <td>293</td>\n",
       "      <td>151</td>\n",
       "      <td>222</td>\n",
       "      <td>978</td>\n",
       "      <td>818</td>\n",
       "      <td>160</td>\n",
       "      <td>17</td>\n",
       "    </tr>\n",
       "    <tr>\n",
       "      <th>7</th>\n",
       "      <td>Grêmio</td>\n",
       "      <td>1022</td>\n",
       "      <td>662</td>\n",
       "      <td>283</td>\n",
       "      <td>173</td>\n",
       "      <td>206</td>\n",
       "      <td>912</td>\n",
       "      <td>727</td>\n",
       "      <td>185</td>\n",
       "      <td>17</td>\n",
       "    </tr>\n",
       "    <tr>\n",
       "      <th>8</th>\n",
       "      <td>Fluminense</td>\n",
       "      <td>1001</td>\n",
       "      <td>704</td>\n",
       "      <td>270</td>\n",
       "      <td>189</td>\n",
       "      <td>245</td>\n",
       "      <td>946</td>\n",
       "      <td>906</td>\n",
       "      <td>40</td>\n",
       "      <td>18</td>\n",
       "    </tr>\n",
       "    <tr>\n",
       "      <th>9</th>\n",
       "      <td>Atlético-MG</td>\n",
       "      <td>973</td>\n",
       "      <td>666</td>\n",
       "      <td>267</td>\n",
       "      <td>172</td>\n",
       "      <td>227</td>\n",
       "      <td>967</td>\n",
       "      <td>875</td>\n",
       "      <td>92</td>\n",
       "      <td>17</td>\n",
       "    </tr>\n",
       "    <tr>\n",
       "      <th>10</th>\n",
       "      <td>Palmeiras</td>\n",
       "      <td>960</td>\n",
       "      <td>620</td>\n",
       "      <td>266</td>\n",
       "      <td>162</td>\n",
       "      <td>192</td>\n",
       "      <td>889</td>\n",
       "      <td>737</td>\n",
       "      <td>152</td>\n",
       "      <td>16</td>\n",
       "    </tr>\n",
       "    <tr>\n",
       "      <th>11</th>\n",
       "      <td>Athlético-PR</td>\n",
       "      <td>955</td>\n",
       "      <td>666</td>\n",
       "      <td>266</td>\n",
       "      <td>157</td>\n",
       "      <td>243</td>\n",
       "      <td>892</td>\n",
       "      <td>829</td>\n",
       "      <td>63</td>\n",
       "      <td>17</td>\n",
       "    </tr>\n",
       "    <tr>\n",
       "      <th>12</th>\n",
       "      <td>Botafogo-RJ</td>\n",
       "      <td>812</td>\n",
       "      <td>620</td>\n",
       "      <td>213</td>\n",
       "      <td>173</td>\n",
       "      <td>234</td>\n",
       "      <td>776</td>\n",
       "      <td>801</td>\n",
       "      <td>-25</td>\n",
       "      <td>16</td>\n",
       "    </tr>\n",
       "    <tr>\n",
       "      <th>13</th>\n",
       "      <td>Vasco</td>\n",
       "      <td>767</td>\n",
       "      <td>590</td>\n",
       "      <td>196</td>\n",
       "      <td>177</td>\n",
       "      <td>217</td>\n",
       "      <td>747</td>\n",
       "      <td>832</td>\n",
       "      <td>-85</td>\n",
       "      <td>15</td>\n",
       "    </tr>\n",
       "    <tr>\n",
       "      <th>14</th>\n",
       "      <td>Goiás</td>\n",
       "      <td>685</td>\n",
       "      <td>514</td>\n",
       "      <td>189</td>\n",
       "      <td>118</td>\n",
       "      <td>207</td>\n",
       "      <td>713</td>\n",
       "      <td>733</td>\n",
       "      <td>-20</td>\n",
       "      <td>13</td>\n",
       "    </tr>\n",
       "    <tr>\n",
       "      <th>15</th>\n",
       "      <td>Coritiba</td>\n",
       "      <td>647</td>\n",
       "      <td>514</td>\n",
       "      <td>169</td>\n",
       "      <td>140</td>\n",
       "      <td>205</td>\n",
       "      <td>613</td>\n",
       "      <td>653</td>\n",
       "      <td>-40</td>\n",
       "      <td>13</td>\n",
       "    </tr>\n",
       "    <tr>\n",
       "      <th>16</th>\n",
       "      <td>Figueirense</td>\n",
       "      <td>550</td>\n",
       "      <td>438</td>\n",
       "      <td>142</td>\n",
       "      <td>124</td>\n",
       "      <td>172</td>\n",
       "      <td>530</td>\n",
       "      <td>622</td>\n",
       "      <td>-92</td>\n",
       "      <td>11</td>\n",
       "    </tr>\n",
       "    <tr>\n",
       "      <th>17</th>\n",
       "      <td>Vitória</td>\n",
       "      <td>468</td>\n",
       "      <td>396</td>\n",
       "      <td>123</td>\n",
       "      <td>99</td>\n",
       "      <td>174</td>\n",
       "      <td>492</td>\n",
       "      <td>581</td>\n",
       "      <td>-89</td>\n",
       "      <td>10</td>\n",
       "    </tr>\n",
       "    <tr>\n",
       "      <th>18</th>\n",
       "      <td>Sport</td>\n",
       "      <td>462</td>\n",
       "      <td>380</td>\n",
       "      <td>122</td>\n",
       "      <td>96</td>\n",
       "      <td>162</td>\n",
       "      <td>439</td>\n",
       "      <td>531</td>\n",
       "      <td>-92</td>\n",
       "      <td>10</td>\n",
       "    </tr>\n",
       "    <tr>\n",
       "      <th>19</th>\n",
       "      <td>Ponte Preta</td>\n",
       "      <td>432</td>\n",
       "      <td>362</td>\n",
       "      <td>114</td>\n",
       "      <td>91</td>\n",
       "      <td>157</td>\n",
       "      <td>414</td>\n",
       "      <td>534</td>\n",
       "      <td>-120</td>\n",
       "      <td>9</td>\n",
       "    </tr>\n",
       "    <tr>\n",
       "      <th>20</th>\n",
       "      <td>Bahia</td>\n",
       "      <td>415</td>\n",
       "      <td>350</td>\n",
       "      <td>104</td>\n",
       "      <td>103</td>\n",
       "      <td>143</td>\n",
       "      <td>388</td>\n",
       "      <td>461</td>\n",
       "      <td>-73</td>\n",
       "      <td>9</td>\n",
       "    </tr>\n",
       "    <tr>\n",
       "      <th>21</th>\n",
       "      <td>Paraná</td>\n",
       "      <td>304</td>\n",
       "      <td>248</td>\n",
       "      <td>83</td>\n",
       "      <td>55</td>\n",
       "      <td>110</td>\n",
       "      <td>312</td>\n",
       "      <td>369</td>\n",
       "      <td>-57</td>\n",
       "      <td>6</td>\n",
       "    </tr>\n",
       "    <tr>\n",
       "      <th>22</th>\n",
       "      <td>Chapecoense</td>\n",
       "      <td>273</td>\n",
       "      <td>228</td>\n",
       "      <td>69</td>\n",
       "      <td>66</td>\n",
       "      <td>93</td>\n",
       "      <td>234</td>\n",
       "      <td>292</td>\n",
       "      <td>-58</td>\n",
       "      <td>6</td>\n",
       "    </tr>\n",
       "    <tr>\n",
       "      <th>23</th>\n",
       "      <td>Juventude</td>\n",
       "      <td>266</td>\n",
       "      <td>210</td>\n",
       "      <td>71</td>\n",
       "      <td>50</td>\n",
       "      <td>89</td>\n",
       "      <td>268</td>\n",
       "      <td>327</td>\n",
       "      <td>-59</td>\n",
       "      <td>5</td>\n",
       "    </tr>\n",
       "    <tr>\n",
       "      <th>24</th>\n",
       "      <td>Fortaleza</td>\n",
       "      <td>236</td>\n",
       "      <td>202</td>\n",
       "      <td>61</td>\n",
       "      <td>53</td>\n",
       "      <td>88</td>\n",
       "      <td>239</td>\n",
       "      <td>293</td>\n",
       "      <td>-54</td>\n",
       "      <td>5</td>\n",
       "    </tr>\n",
       "    <tr>\n",
       "      <th>25</th>\n",
       "      <td>Avaí</td>\n",
       "      <td>236</td>\n",
       "      <td>228</td>\n",
       "      <td>57</td>\n",
       "      <td>65</td>\n",
       "      <td>106</td>\n",
       "      <td>240</td>\n",
       "      <td>355</td>\n",
       "      <td>-115</td>\n",
       "      <td>6</td>\n",
       "    </tr>\n",
       "    <tr>\n",
       "      <th>26</th>\n",
       "      <td>Ceará</td>\n",
       "      <td>221</td>\n",
       "      <td>190</td>\n",
       "      <td>54</td>\n",
       "      <td>59</td>\n",
       "      <td>77</td>\n",
       "      <td>204</td>\n",
       "      <td>238</td>\n",
       "      <td>-34</td>\n",
       "      <td>5</td>\n",
       "    </tr>\n",
       "    <tr>\n",
       "      <th>27</th>\n",
       "      <td>São Caetano</td>\n",
       "      <td>215</td>\n",
       "      <td>172</td>\n",
       "      <td>65</td>\n",
       "      <td>41</td>\n",
       "      <td>66</td>\n",
       "      <td>209</td>\n",
       "      <td>199</td>\n",
       "      <td>10</td>\n",
       "      <td>4</td>\n",
       "    </tr>\n",
       "    <tr>\n",
       "      <th>28</th>\n",
       "      <td>Atlético-GO</td>\n",
       "      <td>206</td>\n",
       "      <td>190</td>\n",
       "      <td>51</td>\n",
       "      <td>53</td>\n",
       "      <td>86</td>\n",
       "      <td>216</td>\n",
       "      <td>270</td>\n",
       "      <td>-54</td>\n",
       "      <td>5</td>\n",
       "    </tr>\n",
       "    <tr>\n",
       "      <th>29</th>\n",
       "      <td>Náutico</td>\n",
       "      <td>200</td>\n",
       "      <td>190</td>\n",
       "      <td>54</td>\n",
       "      <td>38</td>\n",
       "      <td>98</td>\n",
       "      <td>224</td>\n",
       "      <td>318</td>\n",
       "      <td>-94</td>\n",
       "      <td>5</td>\n",
       "    </tr>\n",
       "    <tr>\n",
       "      <th>30</th>\n",
       "      <td>Criciúma</td>\n",
       "      <td>188</td>\n",
       "      <td>168</td>\n",
       "      <td>50</td>\n",
       "      <td>38</td>\n",
       "      <td>80</td>\n",
       "      <td>194</td>\n",
       "      <td>264</td>\n",
       "      <td>-70</td>\n",
       "      <td>4</td>\n",
       "    </tr>\n",
       "    <tr>\n",
       "      <th>31</th>\n",
       "      <td>Guarani</td>\n",
       "      <td>147</td>\n",
       "      <td>130</td>\n",
       "      <td>36</td>\n",
       "      <td>39</td>\n",
       "      <td>55</td>\n",
       "      <td>140</td>\n",
       "      <td>180</td>\n",
       "      <td>-40</td>\n",
       "      <td>3</td>\n",
       "    </tr>\n",
       "    <tr>\n",
       "      <th>32</th>\n",
       "      <td>Paysandu</td>\n",
       "      <td>146</td>\n",
       "      <td>134</td>\n",
       "      <td>41</td>\n",
       "      <td>31</td>\n",
       "      <td>62</td>\n",
       "      <td>193</td>\n",
       "      <td>245</td>\n",
       "      <td>-52</td>\n",
       "      <td>3</td>\n",
       "    </tr>\n",
       "    <tr>\n",
       "      <th>33</th>\n",
       "      <td>Portuguesa</td>\n",
       "      <td>127</td>\n",
       "      <td>114</td>\n",
       "      <td>31</td>\n",
       "      <td>38</td>\n",
       "      <td>45</td>\n",
       "      <td>137</td>\n",
       "      <td>157</td>\n",
       "      <td>-20</td>\n",
       "      <td>3</td>\n",
       "    </tr>\n",
       "    <tr>\n",
       "      <th>34</th>\n",
       "      <td>América-MG</td>\n",
       "      <td>105</td>\n",
       "      <td>114</td>\n",
       "      <td>25</td>\n",
       "      <td>30</td>\n",
       "      <td>59</td>\n",
       "      <td>104</td>\n",
       "      <td>174</td>\n",
       "      <td>-70</td>\n",
       "      <td>3</td>\n",
       "    </tr>\n",
       "    <tr>\n",
       "      <th>35</th>\n",
       "      <td>Santa Cruz</td>\n",
       "      <td>59</td>\n",
       "      <td>76</td>\n",
       "      <td>15</td>\n",
       "      <td>14</td>\n",
       "      <td>47</td>\n",
       "      <td>86</td>\n",
       "      <td>145</td>\n",
       "      <td>-59</td>\n",
       "      <td>2</td>\n",
       "    </tr>\n",
       "    <tr>\n",
       "      <th>36</th>\n",
       "      <td>Bragantino</td>\n",
       "      <td>53</td>\n",
       "      <td>38</td>\n",
       "      <td>13</td>\n",
       "      <td>14</td>\n",
       "      <td>11</td>\n",
       "      <td>50</td>\n",
       "      <td>40</td>\n",
       "      <td>10</td>\n",
       "      <td>1</td>\n",
       "    </tr>\n",
       "    <tr>\n",
       "      <th>37</th>\n",
       "      <td>Barueri</td>\n",
       "      <td>49</td>\n",
       "      <td>38</td>\n",
       "      <td>12</td>\n",
       "      <td>13</td>\n",
       "      <td>13</td>\n",
       "      <td>59</td>\n",
       "      <td>52</td>\n",
       "      <td>7</td>\n",
       "      <td>1</td>\n",
       "    </tr>\n",
       "    <tr>\n",
       "      <th>38</th>\n",
       "      <td>Santo André</td>\n",
       "      <td>41</td>\n",
       "      <td>38</td>\n",
       "      <td>11</td>\n",
       "      <td>8</td>\n",
       "      <td>19</td>\n",
       "      <td>46</td>\n",
       "      <td>61</td>\n",
       "      <td>-15</td>\n",
       "      <td>1</td>\n",
       "    </tr>\n",
       "    <tr>\n",
       "      <th>39</th>\n",
       "      <td>Brasiliense</td>\n",
       "      <td>41</td>\n",
       "      <td>42</td>\n",
       "      <td>10</td>\n",
       "      <td>12</td>\n",
       "      <td>20</td>\n",
       "      <td>49</td>\n",
       "      <td>68</td>\n",
       "      <td>-19</td>\n",
       "      <td>1</td>\n",
       "    </tr>\n",
       "    <tr>\n",
       "      <th>40</th>\n",
       "      <td>Ipatinga</td>\n",
       "      <td>35</td>\n",
       "      <td>38</td>\n",
       "      <td>9</td>\n",
       "      <td>8</td>\n",
       "      <td>21</td>\n",
       "      <td>37</td>\n",
       "      <td>67</td>\n",
       "      <td>-30</td>\n",
       "      <td>1</td>\n",
       "    </tr>\n",
       "    <tr>\n",
       "      <th>41</th>\n",
       "      <td>CSA</td>\n",
       "      <td>32</td>\n",
       "      <td>38</td>\n",
       "      <td>8</td>\n",
       "      <td>8</td>\n",
       "      <td>22</td>\n",
       "      <td>24</td>\n",
       "      <td>58</td>\n",
       "      <td>-34</td>\n",
       "      <td>1</td>\n",
       "    </tr>\n",
       "    <tr>\n",
       "      <th>42</th>\n",
       "      <td>Joinville</td>\n",
       "      <td>31</td>\n",
       "      <td>38</td>\n",
       "      <td>7</td>\n",
       "      <td>10</td>\n",
       "      <td>21</td>\n",
       "      <td>26</td>\n",
       "      <td>48</td>\n",
       "      <td>-22</td>\n",
       "      <td>1</td>\n",
       "    </tr>\n",
       "    <tr>\n",
       "      <th>43</th>\n",
       "      <td>Grêmio Prudente</td>\n",
       "      <td>28</td>\n",
       "      <td>38</td>\n",
       "      <td>7</td>\n",
       "      <td>10</td>\n",
       "      <td>21</td>\n",
       "      <td>39</td>\n",
       "      <td>64</td>\n",
       "      <td>-25</td>\n",
       "      <td>1</td>\n",
       "    </tr>\n",
       "    <tr>\n",
       "      <th>44</th>\n",
       "      <td>América-RN</td>\n",
       "      <td>17</td>\n",
       "      <td>38</td>\n",
       "      <td>4</td>\n",
       "      <td>5</td>\n",
       "      <td>29</td>\n",
       "      <td>24</td>\n",
       "      <td>80</td>\n",
       "      <td>-56</td>\n",
       "      <td>1</td>\n",
       "    </tr>\n",
       "  </tbody>\n",
       "</table>\n",
       "</div>"
      ],
      "text/plain": [
       "                    Equipe  Pontos  Jogos  Vitórias  ...    GP   GC   SG  Edições\n",
       "Colocação                                            ...                         \n",
       "1                São Paulo    1169    704       327  ...  1037  760  277       18\n",
       "2                   Santos    1097    704       305  ...  1060  837  223       18\n",
       "3                 Flamengo    1080    704       296  ...   984  845  139       18\n",
       "4            Internacional    1045    666       292  ...   893  734  159       17\n",
       "5              Corinthians    1037    666       281  ...   868  712  156       17\n",
       "6                 Cruzeiro    1030    666       293  ...   978  818  160       17\n",
       "7                   Grêmio    1022    662       283  ...   912  727  185       17\n",
       "8               Fluminense    1001    704       270  ...   946  906   40       18\n",
       "9              Atlético-MG     973    666       267  ...   967  875   92       17\n",
       "10               Palmeiras     960    620       266  ...   889  737  152       16\n",
       "11            Athlético-PR     955    666       266  ...   892  829   63       17\n",
       "12             Botafogo-RJ     812    620       213  ...   776  801  -25       16\n",
       "13                   Vasco     767    590       196  ...   747  832  -85       15\n",
       "14                   Goiás     685    514       189  ...   713  733  -20       13\n",
       "15                Coritiba     647    514       169  ...   613  653  -40       13\n",
       "16             Figueirense     550    438       142  ...   530  622  -92       11\n",
       "17                 Vitória     468    396       123  ...   492  581  -89       10\n",
       "18                   Sport     462    380       122  ...   439  531  -92       10\n",
       "19             Ponte Preta     432    362       114  ...   414  534 -120        9\n",
       "20                   Bahia     415    350       104  ...   388  461  -73        9\n",
       "21                  Paraná     304    248        83  ...   312  369  -57        6\n",
       "22             Chapecoense     273    228        69  ...   234  292  -58        6\n",
       "23               Juventude     266    210        71  ...   268  327  -59        5\n",
       "24               Fortaleza     236    202        61  ...   239  293  -54        5\n",
       "25                    Avaí     236    228        57  ...   240  355 -115        6\n",
       "26                   Ceará     221    190        54  ...   204  238  -34        5\n",
       "27             São Caetano     215    172        65  ...   209  199   10        4\n",
       "28             Atlético-GO     206    190        51  ...   216  270  -54        5\n",
       "29                 Náutico     200    190        54  ...   224  318  -94        5\n",
       "30                Criciúma     188    168        50  ...   194  264  -70        4\n",
       "31                 Guarani     147    130        36  ...   140  180  -40        3\n",
       "32                Paysandu     146    134        41  ...   193  245  -52        3\n",
       "33              Portuguesa     127    114        31  ...   137  157  -20        3\n",
       "34              América-MG     105    114        25  ...   104  174  -70        3\n",
       "35              Santa Cruz      59     76        15  ...    86  145  -59        2\n",
       "36              Bragantino      53     38        13  ...    50   40   10        1\n",
       "37                 Barueri      49     38        12  ...    59   52    7        1\n",
       "38             Santo André      41     38        11  ...    46   61  -15        1\n",
       "39             Brasiliense      41     42        10  ...    49   68  -19        1\n",
       "40                Ipatinga      35     38         9  ...    37   67  -30        1\n",
       "41                     CSA      32     38         8  ...    24   58  -34        1\n",
       "42               Joinville      31     38         7  ...    26   48  -22        1\n",
       "43         Grêmio Prudente      28     38         7  ...    39   64  -25        1\n",
       "44              América-RN      17     38         4  ...    24   80  -56        1\n",
       "\n",
       "[44 rows x 10 columns]"
      ]
     },
     "execution_count": 37,
     "metadata": {},
     "output_type": "execute_result"
    }
   ],
   "source": [
    "tabelaAcumulada"
   ]
  },
  {
   "cell_type": "markdown",
   "metadata": {
    "id": "EdfLV0cN05gX"
   },
   "source": [
    "# Campeões nos pontos corridos"
   ]
  },
  {
   "cell_type": "code",
   "execution_count": 38,
   "metadata": {
    "id": "A2caJ84408pe"
   },
   "outputs": [],
   "source": [
    "anos=list(range(2003,2020+1))\n",
    "campeoes=[]\n",
    "for ano in anos:\n",
    "  campeoes.append(montaTabela(ano,46).index[0])\n",
    "campeoesSemDuplicata=[]\n",
    "for i in campeoes:\n",
    "  if i not in campeoesSemDuplicata:\n",
    "    campeoesSemDuplicata.append(i)\n",
    "serieCampeoes=pd.Series()\n",
    "for i in campeoesSemDuplicata:\n",
    "  serieCampeoes.loc[i]=campeoes.count(i)\n",
    "serieCampeoes=serieCampeoes.sort_values()"
   ]
  },
  {
   "cell_type": "code",
   "execution_count": 309,
   "metadata": {
    "colab": {
     "base_uri": "https://localhost:8080/",
     "height": 477
    },
    "id": "JSu7X0ju2ezG",
    "outputId": "bec215f3-87be-4178-acd8-a86b7a3ff2a6"
   },
   "outputs": [
    {
     "data": {
      "image/png": "[encoded data removed]",
      "text/plain": [
       "<Figure size 468x468 with 1 Axes>"
      ]
     },
     "metadata": {},
     "output_type": "display_data"
    }
   ],
   "source": [
    "plt.style.use('ggplot')\n",
    "plt.figure(figsize=(6.5,6.5))\n",
    "height = 0.95\n",
    "plt.barh(y=serieCampeoes.index, width=serieCampeoes.values, height=height, color=(0.2, 0.4, 0.6, 0.6), align='center')\n",
    "plt.title('Campeões e títulos nos pontos corridos')\n",
    "plt.xlabel('Títulos')\n",
    "plt.xticks(range(1,5))\n",
    "for i, (label, value) in enumerate(zip(serieCampeoes.index, serieCampeoes.values)):\n",
    "  img = plt.imread(getPNG(label))\n",
    "  plt.imshow(img, extent=[value-0.7, value, i-height/2, i+height/2],aspect='auto', zorder=2)\n",
    "plt.xlim(0, max(serieCampeoes.values) * 1.25)\n",
    "plt.ylim(-0.5, len(serieCampeoes.index) - 0.5)\n",
    "plt.tight_layout()\n",
    "plt.show()"
   ]
  },
  {
   "cell_type": "markdown",
   "metadata": {
    "id": "WWZYRTHhRaJu"
   },
   "source": [
    "# Análise de Competitividade"
   ]
  },
  {
   "cell_type": "code",
   "execution_count": 40,
   "metadata": {
    "id": "hcdLD4WQDkyj"
   },
   "outputs": [],
   "source": [
    "pontos=pd.Series()\n",
    "for ano in range(2003,2020+1):\n",
    "  a=montaTabela(ano,46)['Pontos']\n",
    "  a.index=[ano]*len(a)\n",
    "  pontos=pontos.append(a)"
   ]
  },
  {
   "cell_type": "code",
   "execution_count": 314,
   "metadata": {
    "colab": {
     "base_uri": "https://localhost:8080/",
     "height": 502
    },
    "id": "29C9i-bJOlkC",
    "outputId": "e386794e-220a-42ae-c166-aa44f7ff3a59"
   },
   "outputs": [
    {
     "data": {
      "image/png": "[encoded data removed]",
      "text/plain": [
       "<Figure size 1080x576 with 1 Axes>"
      ]
     },
     "metadata": {},
     "output_type": "display_data"
    }
   ],
   "source": [
    "plt.figure(figsize=(15,8))\n",
    "plt.plot(pontos,'s',color=(0.2, 0.4, 0.6, 0.6),marker='^')\n",
    "plt.xticks(range(2003,2021))\n",
    "plt.title('Distribuição de pontuações por temporada')\n",
    "plt.show()"
   ]
  },
  {
   "cell_type": "markdown",
   "metadata": {
    "id": "tuU-QeRVaCi4"
   },
   "source": [
    "O gráfico acima nos permite visualizar a distribuição das pontuações ao final de cada temporada desde o início dos pontos corridos. A intenção do gráfico não é identificar as pontuações, mas sim visualizar o quão concentrados ou dispersas estão as pontuações. \\\n",
    "\\\n",
    "Podemos, então, ter uma noção superficial de quão competitiva foi a temporada, já que é de se esperar que, ao final de um campeonato competitivo, os times tenham pontuações semelhantes, proxímas umas das outras. No gráfico, isso implicaria nos traços da temporada correspondente mais próximos uns dos outros, mais concentrados. \\\n",
    "\\\n",
    "Poderíamos mensurar a dispersão dessas pontuações como uma medida da competitividade da temporada - grosseira, mas informativa em termos relativos. É isso que faremos a seguir."
   ]
  },
  {
   "cell_type": "code",
   "execution_count": 315,
   "metadata": {
    "id": "sOyi1qWib0_o"
   },
   "outputs": [],
   "source": [
    "pontosStats=pd.DataFrame()\n",
    "pontosStats['Média']=0; pontosStats['Desvio Padrão']=0\n",
    "pontosStats\n",
    "for ano in range(2003,2020+1):\n",
    "  pontosStats.loc[ano]=[pontos[pontos.index==ano].mean(), pontos[pontos.index==ano].std()]\n",
    "pontosStats['Média Móvel']=pontosStats['Desvio Padrão'].rolling(7).mean()"
   ]
  },
  {
   "cell_type": "code",
   "execution_count": 93,
   "metadata": {
    "colab": {
     "base_uri": "https://localhost:8080/",
     "height": 395
    },
    "id": "TPjGxGx5tcaf",
    "outputId": "46c458cc-5d95-43bb-ab3f-adb52ec5a47b"
   },
   "outputs": [
    {
     "data": {
      "text/plain": [
       "<matplotlib.axes._subplots.AxesSubplot at 0x7f37524cd590>"
      ]
     },
     "execution_count": 93,
     "metadata": {},
     "output_type": "execute_result"
    },
    {
     "data": {
      "image/png": "[encoded data removed]",
      "text/plain": [
       "<Figure size 720x432 with 1 Axes>"
      ]
     },
     "metadata": {},
     "output_type": "display_data"
    }
   ],
   "source": [
    "plt.figure(figsize=(10,6))\n",
    "plt.xticks(range(2003,2021))\n",
    "sns.lineplot(data=[pontosStats['Desvio Padrão'],pontosStats['Média Móvel']],palette=[(0.2,0.4,0.6,0.6),'#F5661D'])"
   ]
  },
  {
   "cell_type": "markdown",
   "metadata": {
    "id": "kt7DimYhqebu"
   },
   "source": [
    "Podemos ver no gráfico acima que os dois primeiros anos do Brasileirão na forma de pontos corridos, ambos com a participação de 24 equipes, tiveram um nível de estável de competição. No entanto, no ano de 2005, juntamente com a redução do número de participantes para 22 equipes, houve um aumento da competitividade do campeonato. Repare que, apesar de as primeiras competições terem tido mais times, isso não afeta a análise e não requer uma normalização das pontuações, pois nossa intenção é medir o quão distantes os pontos da média da temporada. Como a normalização respeita os intervalos entre os dados do conjunto, ela não alteraria o que estamos buscando mensurar. \\\n",
    "\\\n",
    "Vemos que 2009 e 2017 foram temporadas muito competitivas, mesmo que em 2009 os times do Z4 terminaram muito distantes dos outros e em 2017 os melhores times foram muito melhores (veja o gráfico da distribuição de pontos), principalmente o campeão, que foi o Corinthians. Isso se deve ao fato de toda a competição ter se concentrado, sobretudo, no meio da tabela. \\\n",
    "\\\n",
    "Além disso, vemos também, por meio da média móvel em 7 anos, que os últimos 10 anos o campeonato mostra uma tendência de diminuição da competitividade. Isso pode ser explicado pela escalabilidade do mercado de futebol, o que tem gerado uma desigualdade entre as equipes. Por outro lado, alguns clubes estão tendo mais visibilidade com a recente tendêcia de profissionalização da administração da diretoria e de implementação do modelo de clube-empresa, que já se mostrou bem-sucedido em outros países. Os maiores exemplos aqui no Brasil são o Red Bull Bragantino, que foi adquirido pela Red Bull e hoje é uma das equipes mais fortes do país, e o Cuiabá. Essa tendência, contudo, não se restringe somente aos times de menor expressividade, já que clubes como Botafogo, Vasco, Corinthians, etc. já visam a adoção desse modelo de gestão. Assim, caso mais times sigam esse modelo de gestão, é provável que futuramente a competitividade aumente, porém, como é um fenômeno ainda muito recente, não foi possível observar essa tendência claramente."
   ]
  },
  {
   "cell_type": "markdown",
   "metadata": {
    "id": "y-RgRfG8MxGn"
   },
   "source": [
    "# Determinismo do 1º turno"
   ]
  },
  {
   "cell_type": "markdown",
   "metadata": {
    "id": "8NQQ_oIm830P"
   },
   "source": [
    "## O campeão"
   ]
  },
  {
   "cell_type": "markdown",
   "metadata": {
    "id": "s4Pl0wVgSqdL"
   },
   "source": [
    "Um padrão muito forte que pode ser observado na competição é que o líder ao final do primeiro turno, isto é, na metade do campeonato, geralmente conquista o título da temporada. Vamos visualizar essa relação."
   ]
  },
  {
   "cell_type": "code",
   "execution_count": 44,
   "metadata": {
    "colab": {
     "base_uri": "https://localhost:8080/",
     "height": 919
    },
    "id": "R3vxF53fUWhE",
    "outputId": "488aa23d-0b89-42f2-95ca-5111a31072a9"
   },
   "outputs": [
    {
     "data": {
      "text/html": [
       "<table border=\"1\" class=\"dataframe\">\n",
       "  <thead>\n",
       "    <tr style=\"text-align: right;\">\n",
       "      <th>Ano</th>\n",
       "      <th>Líder no 1º turno</th>\n",
       "      <th>Campeão</th>\n",
       "      <th>Ano</th>\n",
       "      <th>Líder no 1º turno</th>\n",
       "      <th>Campeão</th>\n",
       "    </tr>\n",
       "  </thead>\n",
       "  <tbody>\n",
       "    <tr>\n",
       "      <td>2003</td>\n",
       "      <td><img src=\"https://upload.wikimedia.org/wikipedia/commons/b/bc/Logo_Cruzeiro_1996.png\" width=\"60\" ></td>\n",
       "      <td><img src=\"https://upload.wikimedia.org/wikipedia/commons/b/bc/Logo_Cruzeiro_1996.png\" width=\"60\" ></td>\n",
       "      <td>2012</td>\n",
       "      <td><img src=\"https://upload.wikimedia.org/wikipedia/commons/5/5f/Atletico_mineiro_galo.png\" width=\"60\" ></td>\n",
       "      <td><img src=\"https://upload.wikimedia.org/wikipedia/pt/thumb/a/a3/FFC_escudo.svg/1200px-FFC_escudo.svg.png\" width=\"60\" ></td>\n",
       "    </tr>\n",
       "    <tr>\n",
       "      <td>2004</td>\n",
       "      <td><img src=\"https://upload.wikimedia.org/wikipedia/commons/thumb/3/35/Santos_logo.svg/1200px-Santos_logo.svg.png\" width=\"60\" ></td>\n",
       "      <td><img src=\"https://upload.wikimedia.org/wikipedia/commons/thumb/3/35/Santos_logo.svg/1200px-Santos_logo.svg.png\" width=\"60\" ></td>\n",
       "      <td>2013</td>\n",
       "      <td><img src=\"https://upload.wikimedia.org/wikipedia/commons/b/bc/Logo_Cruzeiro_1996.png\" width=\"60\" ></td>\n",
       "      <td><img src=\"https://upload.wikimedia.org/wikipedia/commons/b/bc/Logo_Cruzeiro_1996.png\" width=\"60\" ></td>\n",
       "    </tr>\n",
       "    <tr>\n",
       "      <td>2005</td>\n",
       "      <td><img src=\"https://upload.wikimedia.org/wikipedia/pt/b/b4/Corinthians_simbolo.png\" width=\"60\" ></td>\n",
       "      <td><img src=\"https://upload.wikimedia.org/wikipedia/pt/b/b4/Corinthians_simbolo.png\" width=\"60\" ></td>\n",
       "      <td>2014</td>\n",
       "      <td><img src=\"https://upload.wikimedia.org/wikipedia/commons/b/bc/Logo_Cruzeiro_1996.png\" width=\"60\" ></td>\n",
       "      <td><img src=\"https://upload.wikimedia.org/wikipedia/commons/b/bc/Logo_Cruzeiro_1996.png\" width=\"60\" ></td>\n",
       "    </tr>\n",
       "    <tr>\n",
       "      <td>2006</td>\n",
       "      <td><img src=\"https://upload.wikimedia.org/wikipedia/pt/4/4b/S%C3%A3o_Paulo_Futebol_Clube.png\" width=\"60\" ></td>\n",
       "      <td><img src=\"https://upload.wikimedia.org/wikipedia/pt/4/4b/S%C3%A3o_Paulo_Futebol_Clube.png\" width=\"60\" ></td>\n",
       "      <td>2015</td>\n",
       "      <td><img src=\"https://upload.wikimedia.org/wikipedia/pt/b/b4/Corinthians_simbolo.png\" width=\"60\" ></td>\n",
       "      <td><img src=\"https://upload.wikimedia.org/wikipedia/pt/b/b4/Corinthians_simbolo.png\" width=\"60\" ></td>\n",
       "    </tr>\n",
       "    <tr>\n",
       "      <td>2007</td>\n",
       "      <td><img src=\"https://upload.wikimedia.org/wikipedia/pt/4/4b/S%C3%A3o_Paulo_Futebol_Clube.png\" width=\"60\" ></td>\n",
       "      <td><img src=\"https://upload.wikimedia.org/wikipedia/pt/4/4b/S%C3%A3o_Paulo_Futebol_Clube.png\" width=\"60\" ></td>\n",
       "      <td>2016</td>\n",
       "      <td><img src=\"https://upload.wikimedia.org/wikipedia/commons/thumb/1/10/Palmeiras_logo.svg/1024px-Palmeiras_logo.svg.png\" width=\"60\" ></td>\n",
       "      <td><img src=\"https://upload.wikimedia.org/wikipedia/commons/thumb/1/10/Palmeiras_logo.svg/1024px-Palmeiras_logo.svg.png\" width=\"60\" ></td>\n",
       "    </tr>\n",
       "    <tr>\n",
       "      <td>2008</td>\n",
       "      <td><img src=\"https://upload.wikimedia.org/wikipedia/commons/2/2e/Gremio-Logo.png\" width=\"60\" ></td>\n",
       "      <td><img src=\"https://upload.wikimedia.org/wikipedia/pt/4/4b/S%C3%A3o_Paulo_Futebol_Clube.png\" width=\"60\" ></td>\n",
       "      <td>2017</td>\n",
       "      <td><img src=\"https://upload.wikimedia.org/wikipedia/pt/b/b4/Corinthians_simbolo.png\" width=\"60\" ></td>\n",
       "      <td><img src=\"https://upload.wikimedia.org/wikipedia/pt/b/b4/Corinthians_simbolo.png\" width=\"60\" ></td>\n",
       "    </tr>\n",
       "    <tr>\n",
       "      <td>2009</td>\n",
       "      <td><img src=\"https://upload.wikimedia.org/wikipedia/commons/f/f1/Escudo_do_Sport_Club_Internacional.svg\" width=\"60\" ></td>\n",
       "      <td><img src=\"https://upload.wikimedia.org/wikipedia/commons/9/93/Flamengo-RJ_%28BRA%29.png\" width=\"60\" ></td>\n",
       "      <td>2018</td>\n",
       "      <td><img src=\"https://upload.wikimedia.org/wikipedia/pt/4/4b/S%C3%A3o_Paulo_Futebol_Clube.png\" width=\"60\" ></td>\n",
       "      <td><img src=\"https://upload.wikimedia.org/wikipedia/commons/thumb/1/10/Palmeiras_logo.svg/1024px-Palmeiras_logo.svg.png\" width=\"60\" ></td>\n",
       "    </tr>\n",
       "    <tr>\n",
       "      <td>2010</td>\n",
       "      <td><img src=\"https://upload.wikimedia.org/wikipedia/pt/thumb/a/a3/FFC_escudo.svg/1200px-FFC_escudo.svg.png\" width=\"60\" ></td>\n",
       "      <td><img src=\"https://upload.wikimedia.org/wikipedia/pt/thumb/a/a3/FFC_escudo.svg/1200px-FFC_escudo.svg.png\" width=\"60\" ></td>\n",
       "      <td>2019</td>\n",
       "      <td><img src=\"https://upload.wikimedia.org/wikipedia/commons/9/93/Flamengo-RJ_%28BRA%29.png\" width=\"60\" ></td>\n",
       "      <td><img src=\"https://upload.wikimedia.org/wikipedia/commons/9/93/Flamengo-RJ_%28BRA%29.png\" width=\"60\" ></td>\n",
       "    </tr>\n",
       "    <tr>\n",
       "      <td>2011</td>\n",
       "      <td><img src=\"https://upload.wikimedia.org/wikipedia/pt/b/b4/Corinthians_simbolo.png\" width=\"60\" ></td>\n",
       "      <td><img src=\"https://upload.wikimedia.org/wikipedia/pt/b/b4/Corinthians_simbolo.png\" width=\"60\" ></td>\n",
       "      <td>2020</td>\n",
       "      <td><img src=\"https://upload.wikimedia.org/wikipedia/pt/4/4b/S%C3%A3o_Paulo_Futebol_Clube.png\" width=\"60\" ></td>\n",
       "      <td><img src=\"https://upload.wikimedia.org/wikipedia/commons/9/93/Flamengo-RJ_%28BRA%29.png\" width=\"60\" ></td>\n",
       "    </tr>\n",
       "  </tbody>\n",
       "</table>"
      ],
      "text/plain": [
       "<IPython.core.display.HTML object>"
      ]
     },
     "metadata": {},
     "output_type": "display_data"
    }
   ],
   "source": [
    "from IPython.core.display import display,HTML\n",
    "df=pd.DataFrame()\n",
    "df['Líder no 1º turno']=[0]*18\n",
    "df['Campeão']=[0]*18\n",
    "df.index=list(range(2003,2020+1))\n",
    "for i in range(2003,2020+1):\n",
    "  if i==2003 or i==2004:\n",
    "    meio=23\n",
    "  if i==2005:\n",
    "    meio=21\n",
    "  if i>2005:\n",
    "    meio=19\n",
    "  df.loc[i]=[getPNG(montaTabela(i,meio).index[0]),getPNG(montaTabela(i,2*meio).index[0])]\n",
    "df.insert(0,'Ano',df.index,True)\n",
    "df=pd.concat([df[:9].reset_index(drop=1),df[9:].reset_index(drop=1)], axis=1).fillna('')\n",
    "image_cols = ['Líder no 1º turno', 'Campeão']  # define as colunas que serão convertidas em html\n",
    "format_dict = {}\n",
    "for image_col in image_cols:\n",
    "    format_dict[image_col] = path_to_image_html\n",
    "display(HTML(df.to_html(escape=False ,formatters=format_dict,index=False)))\n",
    "    "
   ]
  },
  {
   "cell_type": "markdown",
   "metadata": {
    "id": "UBdrg8Ol9l5r"
   },
   "source": [
    "Apenas 5 vezes (de 18 edições) durante toda a história dos pontos corridos o líder na metade do campeonato não foi campeão do campeonato."
   ]
  },
  {
   "cell_type": "markdown",
   "metadata": {
    "id": "_E5JHNAz869p"
   },
   "source": [
    "## Os primeiros e os últimos"
   ]
  },
  {
   "cell_type": "code",
   "execution_count": 45,
   "metadata": {
    "id": "ZzsfVGDxM26l"
   },
   "outputs": [],
   "source": [
    "primeirosFicam=[] # Esse bloco demora quase 4 minutos para rodar, mas funciona \n",
    "for i in range(2003,2020+1):\n",
    "  if i==2003 or i==2004:\n",
    "    meio=23\n",
    "  if i==2005:\n",
    "    meio=21\n",
    "  if i>2005:\n",
    "    meio=19\n",
    "  times=[]\n",
    "  for j in montaTabela(i,meio).index[:4]:\n",
    "    if j in montaTabela(i,2*meio).index[:4]:\n",
    "      times.append(j)\n",
    "  primeirosFicam.append(len(times))\n",
    "ultimosFicam=[]\n",
    "for i in range(2003,2020+1):\n",
    "  if i==2003 or i==2004:\n",
    "    meio=23\n",
    "  if i==2005:\n",
    "    meio=21\n",
    "  if i>2005:\n",
    "    meio=19\n",
    "  times=[]\n",
    "  for j in montaTabela(i,meio).index[-4:]:\n",
    "    if j in montaTabela(i,2*meio).index[-4:]:\n",
    "      times.append(j)\n",
    "  ultimosFicam.append(len(times))"
   ]
  },
  {
   "cell_type": "code",
   "execution_count": 76,
   "metadata": {
    "colab": {
     "base_uri": "https://localhost:8080/",
     "height": 518
    },
    "id": "tfOMXmZd_OXo",
    "outputId": "910b157e-a2aa-457d-a1b8-0ab2fd68cbb1"
   },
   "outputs": [
    {
     "data": {
      "image/png": "[encoded data removed]",
      "text/plain": [
       "<Figure size 1080x576 with 1 Axes>"
      ]
     },
     "metadata": {},
     "output_type": "display_data"
    }
   ],
   "source": [
    "sintese=pd.DataFrame()\n",
    "sintese['Primeiros']=primeirosFicam\n",
    "sintese['Últimos']=ultimosFicam\n",
    "sintese.index=range(2003,2020+1)\n",
    "X = list(range(2003,2020+1))\n",
    "Y = sintese.Primeiros\n",
    "Z = sintese.Últimos\n",
    "X_axis = np.arange(len(X))\n",
    "plt.figure(figsize=(15,8))\n",
    "plt.bar(X_axis - 0.2, Y, 0.4, label = 'Primeiros')\n",
    "plt.bar(X_axis + 0.2, Z, 0.4, label = 'Últimos')\n",
    "plt.xticks(X_axis, X)\n",
    "plt.yticks(Y)\n",
    "plt.xlabel(\"Temporada\")\n",
    "plt.ylabel(\"Nº de Equipes\")\n",
    "plt.title(\"Nº de Equipes que permaneceram no G4 e Z4 desde fim do 1º turno\")\n",
    "plt.legend()\n",
    "plt.show()"
   ]
  },
  {
   "cell_type": "markdown",
   "metadata": {
    "id": "6uO7NuPu9uKd"
   },
   "source": [
    "Estatísticamente, existe em torno de 72% de chances da equipe que terminou no primeiro turno no G4 de finalizar a competição entre os quatro primeiros. Analogamente, para o Z4, existem 62,5% de chances. \\\n",
    "Isso evidencia o quão decisiva é a campanha de uma equipe até a metade do campeonato. Quando a fase de um time é muito boa ou muito ruim, é díficil que esse cenário se reverta."
   ]
  },
  {
   "cell_type": "markdown",
   "metadata": {
    "id": "W1yzR7y0ixUh"
   },
   "source": [
    "# Estatísticas Gerais"
   ]
  },
  {
   "cell_type": "markdown",
   "metadata": {
    "id": "hS1UqNLIi2Kv"
   },
   "source": [
    "## Relação entre mando de campo e resultado"
   ]
  },
  {
   "cell_type": "code",
   "execution_count": 313,
   "metadata": {
    "colab": {
     "base_uri": "https://localhost:8080/",
     "height": 374
    },
    "id": "PU4550yImh0I",
    "outputId": "8b62a3cd-8eb2-4b90-edcd-6f14afb9b75a"
   },
   "outputs": [
    {
     "data": {
      "image/png": "[encoded data removed]",
      "text/plain": [
       "<Figure size 720x432 with 1 Axes>"
      ]
     },
     "metadata": {},
     "output_type": "display_data"
    }
   ],
   "source": [
    "vitoria=len(par[par['Mandante']==par['Vencedor']])/len(par)\n",
    "derrota=len(par[par['Visitante']==par['Vencedor']])/len(par)\n",
    "empate=len(par[par['Vencedor']=='-'])/len(par)\n",
    "labels=['Vitória','Derrota','Empate']\n",
    "sizes=[vitoria,derrota,empate]\n",
    "explode=(0.05, 0, 0)\n",
    "plt.figure(figsize=(10,6))\n",
    "plt.pie(sizes, explode=explode, labels=labels, autopct='%1.1f%%', shadow=True, startangle=90)\n",
    "plt.axis('equal')\n",
    "plt.title('Relação entre mando de campo e resultado')\n",
    "plt.show()"
   ]
  },
  {
   "cell_type": "markdown",
   "metadata": {
    "id": "6MmnaE86dFa8"
   },
   "source": [
    "Em média, os mandantes vencem metade dos jogos em casa."
   ]
  },
  {
   "cell_type": "markdown",
   "metadata": {
    "id": "3KLqRU0jqhCh"
   },
   "source": [
    "## Desempenho dos clubes mandantes\n",
    "\n"
   ]
  },
  {
   "cell_type": "code",
   "execution_count": 48,
   "metadata": {
    "id": "e_eCxIFdqlhu"
   },
   "outputs": [],
   "source": [
    "vitoriasMandante=pd.DataFrame()\n",
    "vitoriasMandante['Vitórias']=[0]*len(par.Mandante.unique())\n",
    "vitoriasMandante['Empates']=[0]*len(par.Mandante.unique())\n",
    "vitoriasMandante['Derrotas']=[0]*len(par.Mandante.unique())\n",
    "vitoriasMandante.index=par.Mandante.unique()\n",
    "for i in vitoriasMandante.index:\n",
    "  vitoriasMandante.loc[i]['Vitórias']=len(par[(par.Mandante==i) & (par.Vencedor==i)])\n",
    "  vitoriasMandante.loc[i]['Empates']=len(par[(par.Mandante==i) & (par.Vencedor=='-')])\n",
    "  vitoriasMandante.loc[i]['Derrotas']=len(par[(par.Mandante==i) & (par.Vencedor!=i) & (par.Vencedor!='-')])\n",
    "vitoriasMandante=vitoriasMandante.sort_values(ascending=False, by='Vitórias')\n",
    "for i in vitoriasMandante.index:\n",
    "  vitoriasMandante.loc[i]=vitoriasMandante.loc[i]/len(par[par.Mandante==i])"
   ]
  },
  {
   "cell_type": "code",
   "execution_count": 311,
   "metadata": {
    "colab": {
     "base_uri": "https://localhost:8080/",
     "height": 611
    },
    "id": "7zD9pTPlHbbG",
    "outputId": "558f38f3-01f7-4481-aba4-b790748ab895"
   },
   "outputs": [
    {
     "data": {
      "image/png": "[encoded data removed]",
      "text/plain": [
       "<Figure size 1152x720 with 1 Axes>"
      ]
     },
     "metadata": {},
     "output_type": "display_data"
    }
   ],
   "source": [
    "ax = vitoriasMandante.nlargest(20,'Vitórias').sort_values('Vitórias').plot.barh(stacked=True, cmap='tab10', figsize=(16, 10),color={\"Vitórias\": \"#95E827\", \"Empates\": \"#FFCB1F\",'Derrotas': '#F5661D'})\n",
    "ax.set_title('Desempenho dos clubes mandantes')\n",
    "for p in ax.patches:\n",
    "    left, bottom, width, height = p.get_bbox().bounds\n",
    "    if width > 0:\n",
    "         ax.annotate(f'{width:.0%}',xy=(left+width/2, bottom+height/2), ha='center', va='center',color='black')"
   ]
  },
  {
   "cell_type": "markdown",
   "metadata": {
    "id": "HKvCbF2Q-CEn"
   },
   "source": [
    "Esse gráfico exibe as 20 equipes com o melhor índice de vítorias como mandante, também mostra a porcentagem de empates e derrotas. Pode-se perceber a dominância das equipes gaúchas e paulistas com o mando de campo. Além disso, também é possível perceber que o Barueri, que não disputou muitas temporadas quantos os outros times mais tradicionais, é a equipe que possui menos derrotas relativamente. Isso demonstra que o Barueri, provavelmente, foi mais conservador ao jogar em casa."
   ]
  },
  {
   "cell_type": "markdown",
   "metadata": {
    "id": "NQhjJs-YI578"
   },
   "source": [
    "## Desempenho dos clubes visitantes\n",
    "\n"
   ]
  },
  {
   "cell_type": "code",
   "execution_count": 50,
   "metadata": {
    "id": "_fB0mo9nI5XI"
   },
   "outputs": [],
   "source": [
    "vitoriasVisitante=pd.DataFrame()\n",
    "vitoriasVisitante['Vitórias']=[0]*len(par.Visitante.unique())\n",
    "vitoriasVisitante['Empates']=[0]*len(par.Visitante.unique())\n",
    "vitoriasVisitante['Derrotas']=[0]*len(par.Visitante.unique())\n",
    "vitoriasVisitante.index=par.Visitante.unique()\n",
    "for i in vitoriasVisitante.index:\n",
    "  vitoriasVisitante.loc[i]['Vitórias']=len(par[(par.Visitante==i) & (par.Vencedor==i)])\n",
    "  vitoriasVisitante.loc[i]['Empates']=len(par[(par.Visitante==i) & (par.Vencedor=='-')])\n",
    "  vitoriasVisitante.loc[i]['Derrotas']=len(par[(par.Visitante==i) & (par.Vencedor!=i) & (par.Vencedor!='-')])\n",
    "vitoriasVisitante=vitoriasVisitante.sort_values(ascending=False, by='Vitórias')\n",
    "for i in vitoriasVisitante.index:\n",
    "  vitoriasVisitante.loc[i]=vitoriasVisitante.loc[i]/len(par[par.Visitante==i])"
   ]
  },
  {
   "cell_type": "code",
   "execution_count": 310,
   "metadata": {
    "colab": {
     "base_uri": "https://localhost:8080/",
     "height": 611
    },
    "id": "o4vi6YDSJSoR",
    "outputId": "a06b75ec-8949-47a8-d6d2-4c764d099dc7"
   },
   "outputs": [
    {
     "data": {
      "image/png": "[encoded data removed]",
      "text/plain": [
       "<Figure size 1152x720 with 1 Axes>"
      ]
     },
     "metadata": {},
     "output_type": "display_data"
    }
   ],
   "source": [
    "ax = vitoriasVisitante.nlargest(20,'Vitórias').sort_values('Vitórias').plot.barh(stacked=True, cmap='tab10', figsize=(16, 10),color={\"Vitórias\": \"#95E827\", \"Empates\": \"#FFCB1F\",'Derrotas': '#F5661D'})\n",
    "ax.set_title('Desempenho dos clubes visitantes')\n",
    "for p in ax.patches:\n",
    "    left, bottom, width, height = p.get_bbox().bounds\n",
    "    if width > 0:\n",
    "         ax.annotate(f'{width:.0%}',xy=(left+width/2, bottom+height/2), ha='center', va='center',color='black')"
   ]
  },
  {
   "cell_type": "markdown",
   "metadata": {
    "id": "km42zrsc-Ezh"
   },
   "source": [
    "Esse gráfico, análogo ao anterior, mas para visitantes, monstra a importância das equipes desempenharem um bom desempenho fora de casa pois, olhando para os 8 primeiros colocados em desempenho em vitórias como visitante temos os 7 diferentes clubes que foram campeões desde o começo dos pontos corridos."
   ]
  },
  {
   "cell_type": "markdown",
   "metadata": {
    "id": "Wem3XPKPi2En"
   },
   "source": [
    "## Relação entre posse de bola e vitória"
   ]
  },
  {
   "cell_type": "code",
   "execution_count": 52,
   "metadata": {
    "id": "svw7tOdQZgDr"
   },
   "outputs": [],
   "source": [
    "ganhou=[]\n",
    "porcentagem=[]\n",
    "maiorposse=0\n",
    "menorposse=0\n",
    "for i in range(4987,7267):\n",
    "  if par.loc[i]['Vencedor']==par.loc[i]['Mandante']:\n",
    "    ganhou.append(0)\n",
    "  if par.loc[i]['Vencedor']==par.loc[i]['Visitante']:\n",
    "    ganhou.append(1)\n",
    "  if par.loc[i]['Vencedor']=='-':\n",
    "    ganhou.append('-')\n",
    "for j in est.index.unique():\n",
    "  if ganhou[j-4987]==0:\n",
    "    porcentagem.append(est.loc[j].iloc[0]['Posse de bola'])\n",
    "  if ganhou[j-4987]==1:\n",
    "    porcentagem.append(est.loc[j].iloc[1]['Posse de bola'])\n",
    "x=['21%','22%','23%','24%','25%','26%','27%','28%','29%','30%','31%','32%','33%','34%','35%','36%','37%','38%','39%','40%','41%','42%','43%','44%','45%','46%','47%','48%','49%','50%','51%','52%','53%','54%','55%','56%','57%','58%','59%','60%','61%','62%','63%','64%','65%','66%','67%','68%','69%','70%','71%','72%','73%','74%','75%','76%','77%','78%']\n",
    "for i in x:\n",
    "  if i in ['51%','52%','53%','54%','55%','56%','57%','58%','59%','60%','61%','62%','63%','64%','65%','66%','67%','68%','69%','70%','71%','72%','73%','74%','75%','76%','77%','78%']:\n",
    "    maiorposse+=porcentagem.count(i)\n",
    "  if i!='50%':\n",
    "    menorposse+=porcentagem.count(i)\n"
   ]
  },
  {
   "cell_type": "code",
   "execution_count": 53,
   "metadata": {
    "colab": {
     "base_uri": "https://localhost:8080/",
     "height": 392
    },
    "id": "qvxP4IlVsULw",
    "outputId": "aa905311-4ef8-41d0-ed03-acdddcf4f7fd"
   },
   "outputs": [
    {
     "data": {
      "image/png": "[encoded data removed]",
      "text/plain": [
       "<Figure size 720x432 with 1 Axes>"
      ]
     },
     "metadata": {},
     "output_type": "display_data"
    }
   ],
   "source": [
    "x = ['Menor posse de bola','Maior posse de bola']\n",
    "y = [menorposse,maiorposse]\n",
    "plt.figure(figsize=(10, 6))\n",
    "plt.bar(x,y,color=(0.2,0.4,0.6,0.6))\n",
    "plt.xticks(x)\n",
    "plt.ylabel('Vitórias')\n",
    "plt.title('Gráfico de vitórias em relação à posse de bola')\n",
    "plt.show()"
   ]
  },
  {
   "cell_type": "markdown",
   "metadata": {
    "id": "pQc734o2-P59"
   },
   "source": [
    "Apesar do senso comum acreditar que uma equipe está mais próximo da vitória caso esteja com uma maior posse de bola, a partir desse gráfico é nítido que a menor posse de bola converte basicamente o dobro de vitórias. Isso acontece pois, geralmente, equipes que tocam a bola de um lado para o outro sem objetividade acabam, geralmente, dando o contra-ataque para a equipe adversária que consegue converter com mais facilidade suas oportunidades em gols."
   ]
  },
  {
   "cell_type": "markdown",
   "metadata": {
    "id": "82mJJyAZizXY"
   },
   "source": [
    "## Placares mais comuns"
   ]
  },
  {
   "cell_type": "code",
   "execution_count": 264,
   "metadata": {
    "id": "i3I6F6uJ1BM0"
   },
   "outputs": [],
   "source": [
    "placares=[]\n",
    "for i in par.index:\n",
    "  a=int(par.loc[i]['Mandante Placar'])\n",
    "  b=int(par.loc[i]['Visitante Placar'])\n",
    "  placares.append(str(str(a)+'-'+str(b)))\n",
    "placaresSemDuplicata=[]\n",
    "for i in placares:\n",
    "  if i not in placaresSemDuplicata:\n",
    "    placaresSemDuplicata.append(i)\n",
    "seriePlacares=pd.Series(placaresSemDuplicata)\n",
    "seriePlacares.index=seriePlacares.values.copy()\n",
    "for i in seriePlacares.index:\n",
    "  seriePlacares.loc[i]=float(placares.count(i)/len(placares))\n",
    "seriePlacares=seriePlacares.sort_values(ascending=False)\n",
    "seriePlacares=seriePlacares[:12]\n",
    "seriePlacares['Outros']=1-seriePlacares[:12].values.sum()\n"
   ]
  },
  {
   "cell_type": "code",
   "execution_count": 265,
   "metadata": {
    "id": "PPZ7yQ-iUOlW"
   },
   "outputs": [],
   "source": [
    "dfPlacar=pd.DataFrame()\n",
    "dfPlacar['0']=[0]*5\n",
    "dfPlacar['1']=[0]*5\n",
    "dfPlacar['2']=[0]*5\n",
    "dfPlacar['3']=[0]*5\n",
    "dfPlacar['4+']=[0]*5\n",
    "dfPlacar.index=['0','1','2','3','4+']\n",
    "for i in par.index:\n",
    "  a=int(par.loc[i]['Mandante Placar'])\n",
    "  b=int(par.loc[i]['Visitante Placar'])\n",
    "  if a>=4:\n",
    "    a='4+'\n",
    "  if b>=4:\n",
    "    b='4+'\n",
    "  a=str(a)\n",
    "  b=str(b)\n",
    "  dfPlacar.loc[b][a]+=1"
   ]
  },
  {
   "cell_type": "code",
   "execution_count": 318,
   "metadata": {
    "colab": {
     "base_uri": "https://localhost:8080/",
     "height": 755
    },
    "id": "ISW7EhjeKMi8",
    "outputId": "ec529fc7-33cb-45eb-c113-788d4561e4b4"
   },
   "outputs": [
    {
     "data": {
      "image/png": "[encoded data removed]",
      "text/plain": [
       "<Figure size 1440x936 with 1 Axes>"
      ]
     },
     "metadata": {},
     "output_type": "display_data"
    }
   ],
   "source": [
    "plt.figure(figsize=(20,13))\n",
    "plt.pie(seriePlacares.values,labels=seriePlacares.index,autopct='%1.1f%%',shadow=True, startangle=90);\n",
    "plt.title('Frequência de placares')\n",
    "plt.show()"
   ]
  },
  {
   "cell_type": "markdown",
   "metadata": {
    "id": "chwA3ETLaXfI"
   },
   "source": [
    "Uma visualização alternativa:     \n",
    "Perceba a predominância do placar '1-0'."
   ]
  },
  {
   "cell_type": "code",
   "execution_count": 319,
   "metadata": {
    "colab": {
     "base_uri": "https://localhost:8080/",
     "height": 428
    },
    "id": "cMLmUT4mV_7P",
    "outputId": "0888c6f8-2f8d-4b4f-f2ac-79049b53eb4b"
   },
   "outputs": [
    {
     "data": {
      "text/plain": [
       "Text(0.5, 1.0, 'Frequência de placares')"
      ]
     },
     "execution_count": 319,
     "metadata": {},
     "output_type": "execute_result"
    },
    {
     "data": {
      "image/png": "[encoded data removed]",
      "text/plain": [
       "<Figure size 504x432 with 2 Axes>"
      ]
     },
     "metadata": {},
     "output_type": "display_data"
    }
   ],
   "source": [
    "plt.figure(figsize=(7,6))\n",
    "sns.heatmap(dfPlacar,cmap='YlGnBu')\n",
    "plt.xlabel('Gols de mandantes')\n",
    "plt.ylabel('Gols de visitantes')\n",
    "plt.title('Frequência de placares')"
   ]
  },
  {
   "cell_type": "markdown",
   "metadata": {
    "id": "6Mu5CkwsV2Ea"
   },
   "source": [
    "# Impactos da implementação do VAR"
   ]
  },
  {
   "cell_type": "markdown",
   "metadata": {
    "id": "I31z-gGR-tQj"
   },
   "source": [
    "Com a implementação do VAR em 2019 esperava-se que o número de infrações crescessem, visto que elas poderiam ser identificadas com mais facilidade. Entretanto, os resultados mostraram o oposto, porém, é possível interpretar que a implementação do VAR gerou um cuidado maior por partes dos jogadores em 2019. Isso pode ser provado pois logo na temporada seguinte o número de faltas regularizou-se aos níveis anteriores, ou seja, os jogadores estavam se acostumando à inovação tecnológica e comportaram-se de forma conservadora durante esse período de adaptação."
   ]
  },
  {
   "cell_type": "code",
   "execution_count": 59,
   "metadata": {
    "id": "erwlobQQWMOA"
   },
   "outputs": [],
   "source": [
    "serieFaltas=pd.Series()\n",
    "for ano in list(range(2015,2020+1)):\n",
    "  serieFaltas.loc[ano]=contaDados(ano,'f')\n",
    "serieImpedimentos=pd.Series()\n",
    "for ano in list(range(2015,2020+1)):\n",
    "  serieImpedimentos.loc[ano]=contaDados(ano,'i')\n",
    "serieCA=pd.Series()\n",
    "for ano in list(range(2015,2020+1)):\n",
    "  serieCA.loc[ano]=contaDados(ano,'ca')\n",
    "serieCV=pd.Series()\n",
    "for ano in list(range(2015,2020+1)):\n",
    "  serieCV.loc[ano]=contaDados(ano,'cv')\n"
   ]
  },
  {
   "cell_type": "code",
   "execution_count": 60,
   "metadata": {
    "colab": {
     "base_uri": "https://localhost:8080/",
     "height": 445
    },
    "id": "hY7agG4oWZYW",
    "outputId": "62b0cfaa-bd27-4913-f96f-24db095f5cf4",
    "scrolled": true
   },
   "outputs": [
    {
     "data": {
      "image/png": "[encoded data removed]",
      "text/plain": [
       "<Figure size 936x504 with 4 Axes>"
      ]
     },
     "metadata": {},
     "output_type": "display_data"
    }
   ],
   "source": [
    "fig,ax=plt.subplots(2,2,figsize=(13,7))\n",
    "ax[0, 0].plot(serieFaltas.index,serieFaltas.values,color=(0.2, 0.4, 0.6, 0.6))\n",
    "ax[1, 0].plot(serieImpedimentos.index,serieImpedimentos.values,color=(0.2, 0.4, 0.6, 0.6))\n",
    "ax[0, 1].plot(serieCA.index,serieCA.values,color=(0.2, 0.4, 0.6, 0.6))\n",
    "ax[1, 1].plot(serieCA.index,serieCA.values,color=(0.2, 0.4, 0.6, 0.6))\n",
    "ax[0,0].title.set_text('Faltas por temporada')\n",
    "ax[1,0].title.set_text('Impedimentos por temporada')\n",
    "ax[0,1].title.set_text('Cartões amarelos por temporada')\n",
    "ax[1,1].title.set_text('Cartões vermelhos por temporada')\n",
    "fig.show()"
   ]
  },
  {
   "cell_type": "markdown",
   "metadata": {
    "id": "iJPr9_3zu-25"
   },
   "source": [
    "# Fontes e Referências\n",
    "https://futdados.com/pontos-corridos-todas-as-campanhas-acumuladas-desde-2003/ \\\n",
    "https://www.kaggle.com/adaoduque/campeonato-brasileiro-de-futebol"
   ]
  },
  {
   "cell_type": "code",
   "execution_count": null,
   "metadata": {},
   "outputs": [],
   "source": []
  }
 ],
 "metadata": {
  "colab": {
   "collapsed_sections": [
    "il1ESnlGSd_V",
    "Uq8m5tnZRuou",
    "VBR8bcJ4LVRt",
    "EdfLV0cN05gX",
    "oH3P7-KcYNUI",
    "Y-N8TB2gYozb"
   ],
   "name": "Computação - Análise Brasileirão.ipynb",
   "provenance": []
  },
  "kernelspec": {
   "display_name": "Python 3",
   "language": "python",
   "name": "python3"
  },
  "language_info": {
   "codemirror_mode": {
    "name": "ipython",
    "version": 3
   },
   "file_extension": ".py",
   "mimetype": "text/x-python",
   "name": "python",
   "nbconvert_exporter": "python",
   "pygments_lexer": "ipython3",
   "version": "3.8.8"
  }
 },
 "nbformat": 4,
 "nbformat_minor": 1
}
